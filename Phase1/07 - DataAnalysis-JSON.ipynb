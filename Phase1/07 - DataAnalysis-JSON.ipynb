{
 "cells": [
  {
   "cell_type": "markdown",
   "metadata": {},
   "source": [
    "![more_data](data:image/png;base64,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)"
   ]
  },
  {
   "cell_type": "markdown",
   "metadata": {
    "heading_collapsed": true
   },
   "source": [
    "# Learning Objectives"
   ]
  },
  {
   "cell_type": "markdown",
   "metadata": {
    "hidden": true
   },
   "source": [
    "- Load and explore a .json file in Python\n",
    "- Create a clean data structure from a .json file\n",
    "- Conduct descriptive analysis\n",
    "- Visualize the results"
   ]
  },
  {
   "cell_type": "markdown",
   "metadata": {
    "hidden": true
   },
   "source": [
    "Part of being a good data scientist is having the capacity to work with data in many different forms. Much data online is stored in JSON format. So let's see if we can conduct a descriptive analysis of data when it's given to us in that form!"
   ]
  },
  {
   "cell_type": "markdown",
   "metadata": {},
   "source": [
    "## What is JSON?\n",
    "\n",
    "JSON stands for Java Script Object Notation. \n",
    "\n",
    "JSON objects are one common way that data is transmitted over the web.  It is notable for being lightweight, which makes it [preferred](https://stackoverflow.com/questions/383692/what-is-json-and-why-would-i-use-it), generally, over XML."
   ]
  },
  {
   "cell_type": "markdown",
   "metadata": {
    "hidden": true
   },
   "source": [
    "```json\n",
    "{\"menu\": {\n",
    "  \"id\": 12412,\n",
    "  \"istest\": true,\n",
    "  \"value\": \"File\",\n",
    "  \"popup\": {\n",
    "    \"menuitem\": [\n",
    "      {\"value\": \"New\", \"onclick\": \"CreateNewDoc()\"},\n",
    "      {\"value\": \"Open\", \"onclick\": \"OpenDoc()\"},\n",
    "      {\"value\": \"Close\", \"onclick\": \"CloseDoc()\"}\n",
    "    ]\n",
    "  }\n",
    "}}\n",
    "```"
   ]
  },
  {
   "cell_type": "markdown",
   "metadata": {
    "heading_collapsed": true,
    "hidden": true
   },
   "source": [
    "## JSON Format"
   ]
  },
  {
   "cell_type": "markdown",
   "metadata": {
    "hidden": true
   },
   "source": [
    "JSON objects store data in a format similar to a nested Python dictionary. The JSON format makes it easy to store as a file, transfer between users, and use in other languages.\n",
    "\n",
    "For more information about the syntax of JSON files, check out this [link](https://www.json.org/json-en.html) to the JSON website."
   ]
  },
  {
   "cell_type": "markdown",
   "metadata": {
    "ExecuteTime": {
     "end_time": "2021-06-10T04:15:20.107976Z",
     "start_time": "2021-06-10T04:15:20.101838Z"
    },
    "hidden": true
   },
   "source": [
    "Can have these types in it (all relatable to Python types):\n",
    "\n",
    "|JavaScript|JS Example               |Python Equivalent|Python Example           |\n",
    "|----------|-------------------------|-----------------|-------------------------|\n",
    "|Objects   |`{'key0':'v12','v':1}`   |Dictionaries     |`{'key0':'v12','v':1}`   |\n",
    "|Arrays    |`[1, 'one', 'two', 3, 5]`|Lists            |`[1, 'one', 'two', 3, 5]`|\n",
    "|Strings   |`'One'` or `\"Two\"`       |Strings          |`'One'` or `\"Two\"`       |\n",
    "|Numbers   |`1234.5` or `8675309`    |Numbers          |`1234.5` or `8675309`    |  \n",
    "|Boolean   |`true` or `false`        |Boolean          |`True` or `False`        |\n",
    "|Null Value|`null`                   |None Value       |`None`                   |"
   ]
  },
  {
   "cell_type": "markdown",
   "metadata": {
    "heading_collapsed": true
   },
   "source": [
    "# Loading a JSON File"
   ]
  },
  {
   "cell_type": "markdown",
   "metadata": {
    "hidden": true
   },
   "source": [
    "For this example, we've created a `new_releases.json` file containing data on 20 newly released music albums. We got this from the Spotify API - we'll explain what this means later. \n",
    "\n",
    "Let's begin by importing the `json` package, opening a file with python's `open()` function, and then loading that data from the JSON file into a new `data` object."
   ]
  },
  {
   "cell_type": "code",
   "execution_count": 9,
   "metadata": {},
   "outputs": [
    {
     "name": "stdout",
     "output_type": "stream",
     "text": [
      "01 - Data Science and the Data Science Toolkit (1).pdf\n",
      "02 - Introducing The Terminal.pdf\n",
      "03 - Introducing Git and GitHub.pdf\n",
      "05 - PythonDataManipulation.ipynb\n",
      "06 - DataAnalysis-CSV.ipynb\n",
      "07 - DataAnalysis-JSON.ipynb\n",
      "Completed Lectures\n",
      "Placeholder.txt\n",
      "Python-Loops-and-Functions_blank.ipynb\n",
      "data\n",
      "images\n",
      "stefano.txt\n"
     ]
    }
   ],
   "source": [
    "\n",
    "!ls\n"
   ]
  },
  {
   "cell_type": "code",
   "execution_count": 1,
   "metadata": {},
   "outputs": [],
   "source": [
    "# We'll need to import the json package first\n",
    "import json"
   ]
  },
  {
   "cell_type": "code",
   "execution_count": 3,
   "metadata": {
    "hidden": true
   },
   "outputs": [
    {
     "ename": "FileNotFoundError",
     "evalue": "[Errno 2] No such file or directory: './data/new_release.json'",
     "output_type": "error",
     "traceback": [
      "\u001b[1;31m---------------------------------------------------------------------------\u001b[0m",
      "\u001b[1;31mFileNotFoundError\u001b[0m                         Traceback (most recent call last)",
      "\u001b[1;32m<ipython-input-3-8a1dc3f164ce>\u001b[0m in \u001b[0;36m<module>\u001b[1;34m\u001b[0m\n\u001b[0;32m      1\u001b[0m \u001b[1;31m# Now use with open to load the file\u001b[0m\u001b[1;33m\u001b[0m\u001b[1;33m\u001b[0m\u001b[1;33m\u001b[0m\u001b[0m\n\u001b[1;32m----> 2\u001b[1;33m \u001b[1;32mwith\u001b[0m \u001b[0mopen\u001b[0m\u001b[1;33m(\u001b[0m\u001b[1;34m'./data/new_release.json'\u001b[0m\u001b[1;33m)\u001b[0m\u001b[1;32mas\u001b[0m \u001b[0mf\u001b[0m\u001b[1;33m:\u001b[0m\u001b[1;33m\u001b[0m\u001b[1;33m\u001b[0m\u001b[0m\n\u001b[0m\u001b[0;32m      3\u001b[0m     \u001b[0mdata\u001b[0m \u001b[1;33m=\u001b[0m \u001b[0mjson\u001b[0m\u001b[1;33m.\u001b[0m\u001b[0mload\u001b[0m\u001b[1;33m(\u001b[0m\u001b[0mf\u001b[0m\u001b[1;33m)\u001b[0m\u001b[1;33m\u001b[0m\u001b[1;33m\u001b[0m\u001b[0m\n",
      "\u001b[1;31mFileNotFoundError\u001b[0m: [Errno 2] No such file or directory: './data/new_release.json'"
     ]
    }
   ],
   "source": [
    "# Now use with open to load the file\n",
    "with open('./data/new_release.json')as f:\n",
    "    data = json.load(f)"
   ]
  },
  {
   "cell_type": "markdown",
   "metadata": {
    "hidden": true
   },
   "source": [
    "The Spotify API returned the data in the form of JSON object, which the `json` module transforms into a Python object."
   ]
  },
  {
   "cell_type": "markdown",
   "metadata": {
    "heading_collapsed": true,
    "hidden": true
   },
   "source": [
    "## Exploring JSON Schemas  "
   ]
  },
  {
   "cell_type": "markdown",
   "metadata": {
    "hidden": true
   },
   "source": [
    "Recall that JSON files have a nested structure. The deepest levels of our object will contain individual values: numbers, booleans or strings. These in turn will be stored in the equivalents of Python lists and dictionaries, usually with many levels of nesting. \n",
    "\n",
    "If you try to look at a raw JSON file, you will likely have a hard time understanding the structure. To more easily make sense of it, we will proceed through each level methodically."
   ]
  },
  {
   "cell_type": "code",
   "execution_count": 4,
   "metadata": {
    "hidden": true
   },
   "outputs": [
    {
     "ename": "NameError",
     "evalue": "name 'data' is not defined",
     "output_type": "error",
     "traceback": [
      "\u001b[1;31m---------------------------------------------------------------------------\u001b[0m",
      "\u001b[1;31mNameError\u001b[0m                                 Traceback (most recent call last)",
      "\u001b[1;32m<ipython-input-4-099075cc355d>\u001b[0m in \u001b[0;36m<module>\u001b[1;34m\u001b[0m\n\u001b[0;32m      1\u001b[0m \u001b[1;31m# This will look messy\u001b[0m\u001b[1;33m\u001b[0m\u001b[1;33m\u001b[0m\u001b[1;33m\u001b[0m\u001b[0m\n\u001b[1;32m----> 2\u001b[1;33m \u001b[0mprint\u001b[0m\u001b[1;33m(\u001b[0m\u001b[0mdata\u001b[0m\u001b[1;33m)\u001b[0m\u001b[1;33m\u001b[0m\u001b[1;33m\u001b[0m\u001b[0m\n\u001b[0m",
      "\u001b[1;31mNameError\u001b[0m: name 'data' is not defined"
     ]
    }
   ],
   "source": [
    "# This will look messy\n",
    "print(data)"
   ]
  },
  {
   "cell_type": "code",
   "execution_count": 5,
   "metadata": {
    "hidden": true
   },
   "outputs": [
    {
     "ename": "NameError",
     "evalue": "name 'data' is not defined",
     "output_type": "error",
     "traceback": [
      "\u001b[1;31m---------------------------------------------------------------------------\u001b[0m",
      "\u001b[1;31mNameError\u001b[0m                                 Traceback (most recent call last)",
      "\u001b[1;32m<ipython-input-5-b164d3832ce4>\u001b[0m in \u001b[0;36m<module>\u001b[1;34m\u001b[0m\n\u001b[0;32m      1\u001b[0m \u001b[1;31m# One way to make it easier to read\u001b[0m\u001b[1;33m\u001b[0m\u001b[1;33m\u001b[0m\u001b[1;33m\u001b[0m\u001b[0m\n\u001b[1;32m----> 2\u001b[1;33m \u001b[0mprint\u001b[0m\u001b[1;33m(\u001b[0m\u001b[0mjson\u001b[0m\u001b[1;33m.\u001b[0m\u001b[0mdumps\u001b[0m\u001b[1;33m(\u001b[0m\u001b[0mdata\u001b[0m\u001b[1;33m,\u001b[0m \u001b[0mindent\u001b[0m\u001b[1;33m=\u001b[0m\u001b[1;36m4\u001b[0m\u001b[1;33m)\u001b[0m\u001b[1;33m)\u001b[0m\u001b[1;33m\u001b[0m\u001b[1;33m\u001b[0m\u001b[0m\n\u001b[0m",
      "\u001b[1;31mNameError\u001b[0m: name 'data' is not defined"
     ]
    }
   ],
   "source": [
    "# One way to make it easier to read\n",
    "print(json.dumps(data, indent=4))"
   ]
  },
  {
   "cell_type": "code",
   "execution_count": null,
   "metadata": {
    "hidden": true
   },
   "outputs": [],
   "source": [
    "# Using the default Jupyter Notebook's display() helps\n",
    "display(data) # Uncomment this to do the same as just displaying the last line\n",
    "# data"
   ]
  },
  {
   "cell_type": "markdown",
   "metadata": {
    "hidden": true
   },
   "source": [
    "To start exploring, let's check the type of our new `data` object and start mapping out the hierarchy."
   ]
  },
  {
   "cell_type": "code",
   "execution_count": null,
   "metadata": {
    "hidden": true
   },
   "outputs": [],
   "source": []
  },
  {
   "cell_type": "code",
   "execution_count": null,
   "metadata": {
    "hidden": true
   },
   "outputs": [],
   "source": []
  },
  {
   "cell_type": "markdown",
   "metadata": {
    "hidden": true
   },
   "source": [
    "In this case, there is only a single key, 'albums', so we'll continue on down the pathway exploring and mapping out the hierarchy. Once again, let's start by checking the type of this nested data structure."
   ]
  },
  {
   "cell_type": "code",
   "execution_count": null,
   "metadata": {
    "hidden": true
   },
   "outputs": [],
   "source": []
  },
  {
   "cell_type": "code",
   "execution_count": null,
   "metadata": {
    "hidden": true
   },
   "outputs": [],
   "source": []
  },
  {
   "cell_type": "markdown",
   "metadata": {
    "hidden": true
   },
   "source": [
    "At this point, things are starting to look something like this: \n",
    "\n",
    "![](images/json_diagram1.jpg)\n",
    "\n",
    "If we were to continue checking individual data types, we'd have a lot to go through. To simplify this, let's use a `for` loop:"
   ]
  },
  {
   "cell_type": "code",
   "execution_count": null,
   "metadata": {
    "hidden": true
   },
   "outputs": [],
   "source": [
    "for key, value in data['albums'].items():\n",
    "    print(key, type(value))"
   ]
  },
  {
   "cell_type": "markdown",
   "metadata": {
    "hidden": true
   },
   "source": [
    "Adding this to our diagram, we now have something like this:\n",
    "\n",
    "![](images/json_diagram2.jpg)\n",
    "\n",
    "Let's look at the `items` list - this contains the album information. "
   ]
  },
  {
   "cell_type": "code",
   "execution_count": null,
   "metadata": {
    "hidden": true
   },
   "outputs": [],
   "source": []
  },
  {
   "cell_type": "code",
   "execution_count": null,
   "metadata": {
    "hidden": true,
    "scrolled": true
   },
   "outputs": [],
   "source": []
  },
  {
   "cell_type": "markdown",
   "metadata": {
    "hidden": true
   },
   "source": [
    "We access values as we would for nested lists or dictionaries in Python."
   ]
  },
  {
   "cell_type": "code",
   "execution_count": null,
   "metadata": {
    "hidden": true
   },
   "outputs": [],
   "source": [
    "data['albums']['items'][0].keys()"
   ]
  },
  {
   "cell_type": "code",
   "execution_count": null,
   "metadata": {
    "hidden": true
   },
   "outputs": [],
   "source": [
    "data['albums']['items'][0]['artists'][0]['name']"
   ]
  },
  {
   "cell_type": "code",
   "execution_count": null,
   "metadata": {
    "hidden": true
   },
   "outputs": [],
   "source": [
    "data['albums']['items'][1]['artists'][0]['name']"
   ]
  },
  {
   "cell_type": "markdown",
   "metadata": {
    "heading_collapsed": true
   },
   "source": [
    "# Loading in Plant Data"
   ]
  },
  {
   "cell_type": "markdown",
   "metadata": {
    "hidden": true
   },
   "source": [
    "Now that we have a handle on how to deal with data in JSON form, let's load in a new dataset and construct an analysis!"
   ]
  },
  {
   "cell_type": "code",
   "execution_count": 12,
   "metadata": {
    "hidden": true
   },
   "outputs": [],
   "source": [
    "with open('./data/plants.json') as f:\n",
    "    plants = json.load(f)"
   ]
  },
  {
   "cell_type": "markdown",
   "metadata": {
    "hidden": true
   },
   "source": [
    "This dataset was gathered with the [Trefle API](https://docs.trefle.io/). It contains information about 1000 plants in JSON form."
   ]
  },
  {
   "cell_type": "code",
   "execution_count": 13,
   "metadata": {},
   "outputs": [
    {
     "data": {
      "text/plain": [
       "list"
      ]
     },
     "execution_count": 13,
     "metadata": {},
     "output_type": "execute_result"
    }
   ],
   "source": [
    "type(plants)"
   ]
  },
  {
   "cell_type": "code",
   "execution_count": 14,
   "metadata": {
    "hidden": true
   },
   "outputs": [
    {
     "data": {
      "text/plain": [
       "1000"
      ]
     },
     "execution_count": 14,
     "metadata": {},
     "output_type": "execute_result"
    }
   ],
   "source": [
    "len(plants)"
   ]
  },
  {
   "cell_type": "markdown",
   "metadata": {
    "heading_collapsed": true,
    "hidden": true
   },
   "source": [
    "## What Information Do We Have?"
   ]
  },
  {
   "cell_type": "markdown",
   "metadata": {
    "hidden": true
   },
   "source": [
    "Let's take a look at the first plant in our list to see what information is available."
   ]
  },
  {
   "cell_type": "code",
   "execution_count": 15,
   "metadata": {
    "hidden": true,
    "scrolled": true
   },
   "outputs": [
    {
     "data": {
      "text/plain": [
       "{'id': 678281,\n",
       " 'common_name': 'Evergreen oak',\n",
       " 'slug': 'quercus-rotundifolia',\n",
       " 'scientific_name': 'Quercus rotundifolia',\n",
       " 'year': 1785,\n",
       " 'bibliography': 'Encycl. 1: 723 (1785)',\n",
       " 'author': 'Lam.',\n",
       " 'status': 'accepted',\n",
       " 'rank': 'species',\n",
       " 'family_common_name': 'Beech family',\n",
       " 'genus_id': 5778,\n",
       " 'image_url': 'https://bs.plantnet.org/image/o/1a03948baf0300da25558c2448f086d39b41ca30',\n",
       " 'synonyms': ['Quercus lyauteyi',\n",
       "  'Quercus rotundifolia f. crassicupulata',\n",
       "  'Quercus ballota',\n",
       "  'Quercus ilex f. brevicupulata',\n",
       "  'Quercus calycina',\n",
       "  'Quercus rotundifolia f. dolichocalyx',\n",
       "  'Quercus rotundifolia f. pilosella',\n",
       "  'Quercus rotundifolia f. macrocarpa',\n",
       "  'Quercus rotundifolia f. calycina',\n",
       "  'Quercus ilex f. macrocarpa',\n",
       "  'Quercus ilex subsp. ballota',\n",
       "  'Quercus rotundifolia var. pilosella',\n",
       "  'Quercus rotundifolia var. brevicupulata',\n",
       "  'Quercus rotundifolia subsp. maghrebiana',\n",
       "  'Quercus rotundifolia f. brevicupulata',\n",
       "  'Quercus rotundifolia var. macrocarpa'],\n",
       " 'genus': 'Quercus',\n",
       " 'family': 'Fagaceae',\n",
       " 'links': {'self': '/api/v1/species/quercus-rotundifolia',\n",
       "  'plant': '/api/v1/plants/quercus-rotundifolia',\n",
       "  'genus': '/api/v1/genus/quercus'}}"
      ]
     },
     "execution_count": 15,
     "metadata": {},
     "output_type": "execute_result"
    }
   ],
   "source": [
    "plants[0]"
   ]
  },
  {
   "cell_type": "markdown",
   "metadata": {
    "hidden": true
   },
   "source": [
    "You can find more information about these fields [here](https://docs.trefle.io/docs/advanced/plants-fields)."
   ]
  },
  {
   "cell_type": "markdown",
   "metadata": {
    "heading_collapsed": true,
    "hidden": true
   },
   "source": [
    "## Plant Families"
   ]
  },
  {
   "cell_type": "markdown",
   "metadata": {
    "hidden": true
   },
   "source": [
    "Let's start by seeing what botanical families are represented in our data. We'll build a dictionary that counts the plants by family. We'll use the common names for this purpose."
   ]
  },
  {
   "cell_type": "code",
   "execution_count": 23,
   "metadata": {},
   "outputs": [],
   "source": [
    "# Let's use a default dict for this - need to import it first!\n",
    "from collections import defaultdict"
   ]
  },
  {
   "cell_type": "code",
   "execution_count": 24,
   "metadata": {
    "hidden": true
   },
   "outputs": [],
   "source": [
    "plant_dict = defaultdict(int)"
   ]
  },
  {
   "cell_type": "code",
   "execution_count": 25,
   "metadata": {},
   "outputs": [
    {
     "data": {
      "text/plain": [
       "defaultdict(int, {})"
      ]
     },
     "execution_count": 25,
     "metadata": {},
     "output_type": "execute_result"
    }
   ],
   "source": [
    "plant_dict"
   ]
  },
  {
   "cell_type": "code",
   "execution_count": 28,
   "metadata": {
    "hidden": true
   },
   "outputs": [],
   "source": [
    "for plant in plants:\n",
    "    plant_dict[plant['family_common_name']] += 1"
   ]
  },
  {
   "cell_type": "markdown",
   "metadata": {
    "hidden": true
   },
   "source": [
    "Are there any missing values?"
   ]
  },
  {
   "cell_type": "code",
   "execution_count": 29,
   "metadata": {
    "hidden": true
   },
   "outputs": [
    {
     "data": {
      "text/plain": [
       "defaultdict(int,\n",
       "            {'Beech family': 10,\n",
       "             'Nettle family': 2,\n",
       "             'Grass family': 81,\n",
       "             'Plantain family': 25,\n",
       "             'Buttercup family': 21,\n",
       "             'Pea family': 63,\n",
       "             'Olive family': 5,\n",
       "             'Rose family': 49,\n",
       "             'Birch family': 7,\n",
       "             'Rush family': 19,\n",
       "             'Buckwheat family': 17,\n",
       "             'Soapberry family': 7,\n",
       "             'Pine family': 10,\n",
       "             'Mint family': 45,\n",
       "             'Madder family': 9,\n",
       "             None: 113,\n",
       "             'Pink family': 31,\n",
       "             'Carrot family': 29,\n",
       "             'Geranium family': 10,\n",
       "             'Aster family': 80,\n",
       "             'Horsetail family': 7,\n",
       "             'Heath family': 17,\n",
       "             'Loosestrife family': 2,\n",
       "             'Bracken Fern family': 1,\n",
       "             'Mustard family': 29,\n",
       "             'Evening Primrose family': 10,\n",
       "             'Willow family': 3,\n",
       "             'Polypody family': 7,\n",
       "             'Dogwood family': 3,\n",
       "             'Honeysuckle family': 9,\n",
       "             'Morning-glory family': 3,\n",
       "             'Iris family': 1,\n",
       "             'Spleenwort family': 8,\n",
       "             'Amaranth family': 6,\n",
       "             'Sedge family': 41,\n",
       "             'Buckthorn family': 3,\n",
       "             'Holly family': 1,\n",
       "             'Potato family': 7,\n",
       "             'Bellflower family': 9,\n",
       "             'Wood-Sorrel family': 3,\n",
       "             'Borage family': 13,\n",
       "             'Bittersweet family': 2,\n",
       "             'Primrose family': 12,\n",
       "             'Poppy family': 7,\n",
       "             'Spurge family': 10,\n",
       "             'Cat-tail family': 4,\n",
       "             'Arum family': 8,\n",
       "             'Water-plantain family': 1,\n",
       "             'Hemp family': 1,\n",
       "             'Sumac family': 2,\n",
       "             'Touch-me-not family': 3,\n",
       "             'Broom-rape family': 10,\n",
       "             'Elm family': 2,\n",
       "             'Flax family': 2,\n",
       "             'Stonecrop family': 8,\n",
       "             'Brachythecium moss family': 3,\n",
       "             'Rock-rose family': 5,\n",
       "             'Mallow family': 5,\n",
       "             'Buckbean family': 1,\n",
       "             'Sundew family': 2,\n",
       "             'Milkwort family': 2,\n",
       "             'Cypress family': 2,\n",
       "             'Myrtle family': 2,\n",
       "             'Verbena family': 3,\n",
       "             'Ginseng family': 1,\n",
       "             'Currant family': 4,\n",
       "             'Sandalwood family': 1,\n",
       "             'Pondweed family': 7,\n",
       "             'Water-lily family': 2,\n",
       "             'Gentian family': 6,\n",
       "             'Yam family': 1,\n",
       "             'Walnut family': 1,\n",
       "             'Boxwood family': 1,\n",
       "             'Dogbane family': 3,\n",
       "             'Mignonette family': 2,\n",
       "             'Bladderwort family': 2,\n",
       "             'Melastome family': 1,\n",
       "             'Saxifrage family': 5,\n",
       "             'Purslane family': 1,\n",
       "             'Grape family': 2,\n",
       "             'Pokeweed family': 1,\n",
       "             'Mezereum family': 3,\n",
       "             'Bayberry family': 1,\n",
       "             'Club-moss family': 4,\n",
       "             'Hornwort family': 1,\n",
       "             'Leadwort family': 1,\n",
       "             'Arrow-grass family': 2,\n",
       "             'Cucumber family': 1,\n",
       "             'Water Milfoil family': 3,\n",
       "             'Tape-grass family': 10,\n",
       "             'Manatee-grass family': 4,\n",
       "             'Eel-grass family': 1,\n",
       "             'Flowering Rush family': 1,\n",
       "             'Lily family': 2,\n",
       "             'Spike-moss family': 1,\n",
       "             'Barberry family': 1,\n",
       "             \"Adder's-tongue family\": 2,\n",
       "             'Oleaster family': 1,\n",
       "             'Palm family': 2,\n",
       "             'Acanthus family': 1,\n",
       "             'Calamus family': 1,\n",
       "             'Birthwort family': 1,\n",
       "             'Pittosporum family': 2})"
      ]
     },
     "execution_count": 29,
     "metadata": {},
     "output_type": "execute_result"
    }
   ],
   "source": [
    "plant_dict"
   ]
  },
  {
   "cell_type": "markdown",
   "metadata": {
    "hidden": true
   },
   "source": [
    "Let's remove these by using a dictionary comprehension:"
   ]
  },
  {
   "cell_type": "code",
   "execution_count": 49,
   "metadata": {
    "hidden": true
   },
   "outputs": [],
   "source": [
    "fams_clean = { family: count  for family, count in plant_dict.items() if family != None }"
   ]
  },
  {
   "cell_type": "code",
   "execution_count": 50,
   "metadata": {
    "hidden": true
   },
   "outputs": [
    {
     "data": {
      "text/plain": [
       "{'Beech family': 10,\n",
       " 'Nettle family': 2,\n",
       " 'Grass family': 81,\n",
       " 'Plantain family': 25,\n",
       " 'Buttercup family': 21,\n",
       " 'Pea family': 63,\n",
       " 'Olive family': 5,\n",
       " 'Rose family': 49,\n",
       " 'Birch family': 7,\n",
       " 'Rush family': 19,\n",
       " 'Buckwheat family': 17,\n",
       " 'Soapberry family': 7,\n",
       " 'Pine family': 10,\n",
       " 'Mint family': 45,\n",
       " 'Madder family': 9,\n",
       " 'Pink family': 31,\n",
       " 'Carrot family': 29,\n",
       " 'Geranium family': 10,\n",
       " 'Aster family': 80,\n",
       " 'Horsetail family': 7,\n",
       " 'Heath family': 17,\n",
       " 'Loosestrife family': 2,\n",
       " 'Bracken Fern family': 1,\n",
       " 'Mustard family': 29,\n",
       " 'Evening Primrose family': 10,\n",
       " 'Willow family': 3,\n",
       " 'Polypody family': 7,\n",
       " 'Dogwood family': 3,\n",
       " 'Honeysuckle family': 9,\n",
       " 'Morning-glory family': 3,\n",
       " 'Iris family': 1,\n",
       " 'Spleenwort family': 8,\n",
       " 'Amaranth family': 6,\n",
       " 'Sedge family': 41,\n",
       " 'Buckthorn family': 3,\n",
       " 'Holly family': 1,\n",
       " 'Potato family': 7,\n",
       " 'Bellflower family': 9,\n",
       " 'Wood-Sorrel family': 3,\n",
       " 'Borage family': 13,\n",
       " 'Bittersweet family': 2,\n",
       " 'Primrose family': 12,\n",
       " 'Poppy family': 7,\n",
       " 'Spurge family': 10,\n",
       " 'Cat-tail family': 4,\n",
       " 'Arum family': 8,\n",
       " 'Water-plantain family': 1,\n",
       " 'Hemp family': 1,\n",
       " 'Sumac family': 2,\n",
       " 'Touch-me-not family': 3,\n",
       " 'Broom-rape family': 10,\n",
       " 'Elm family': 2,\n",
       " 'Flax family': 2,\n",
       " 'Stonecrop family': 8,\n",
       " 'Brachythecium moss family': 3,\n",
       " 'Rock-rose family': 5,\n",
       " 'Mallow family': 5,\n",
       " 'Buckbean family': 1,\n",
       " 'Sundew family': 2,\n",
       " 'Milkwort family': 2,\n",
       " 'Cypress family': 2,\n",
       " 'Myrtle family': 2,\n",
       " 'Verbena family': 3,\n",
       " 'Ginseng family': 1,\n",
       " 'Currant family': 4,\n",
       " 'Sandalwood family': 1,\n",
       " 'Pondweed family': 7,\n",
       " 'Water-lily family': 2,\n",
       " 'Gentian family': 6,\n",
       " 'Yam family': 1,\n",
       " 'Walnut family': 1,\n",
       " 'Boxwood family': 1,\n",
       " 'Dogbane family': 3,\n",
       " 'Mignonette family': 2,\n",
       " 'Bladderwort family': 2,\n",
       " 'Melastome family': 1,\n",
       " 'Saxifrage family': 5,\n",
       " 'Purslane family': 1,\n",
       " 'Grape family': 2,\n",
       " 'Pokeweed family': 1,\n",
       " 'Mezereum family': 3,\n",
       " 'Bayberry family': 1,\n",
       " 'Club-moss family': 4,\n",
       " 'Hornwort family': 1,\n",
       " 'Leadwort family': 1,\n",
       " 'Arrow-grass family': 2,\n",
       " 'Cucumber family': 1,\n",
       " 'Water Milfoil family': 3,\n",
       " 'Tape-grass family': 10,\n",
       " 'Manatee-grass family': 4,\n",
       " 'Eel-grass family': 1,\n",
       " 'Flowering Rush family': 1,\n",
       " 'Lily family': 2,\n",
       " 'Spike-moss family': 1,\n",
       " 'Barberry family': 1,\n",
       " \"Adder's-tongue family\": 2,\n",
       " 'Oleaster family': 1,\n",
       " 'Palm family': 2,\n",
       " 'Acanthus family': 1,\n",
       " 'Calamus family': 1,\n",
       " 'Birthwort family': 1,\n",
       " 'Pittosporum family': 2}"
      ]
     },
     "execution_count": 50,
     "metadata": {},
     "output_type": "execute_result"
    }
   ],
   "source": [
    "fams_clean"
   ]
  },
  {
   "cell_type": "markdown",
   "metadata": {
    "hidden": true
   },
   "source": [
    "Let's also remove the families whose counts are less than ten:"
   ]
  },
  {
   "cell_type": "code",
   "execution_count": 51,
   "metadata": {
    "hidden": true
   },
   "outputs": [
    {
     "ename": "KeyError",
     "evalue": "'None'",
     "output_type": "error",
     "traceback": [
      "\u001b[1;31m---------------------------------------------------------------------------\u001b[0m",
      "\u001b[1;31mKeyError\u001b[0m                                  Traceback (most recent call last)",
      "\u001b[1;32m<ipython-input-51-7ac43156df38>\u001b[0m in \u001b[0;36m<module>\u001b[1;34m\u001b[0m\n\u001b[1;32m----> 1\u001b[1;33m \u001b[0mfams_clean\u001b[0m\u001b[1;33m[\u001b[0m\u001b[1;34m'None'\u001b[0m\u001b[1;33m]\u001b[0m\u001b[1;33m\u001b[0m\u001b[1;33m\u001b[0m\u001b[0m\n\u001b[0m",
      "\u001b[1;31mKeyError\u001b[0m: 'None'"
     ]
    }
   ],
   "source": [
    "fams_clean['None']"
   ]
  },
  {
   "cell_type": "code",
   "execution_count": 52,
   "metadata": {},
   "outputs": [
    {
     "data": {
      "text/plain": [
       "{'Beech family': 10,\n",
       " 'Grass family': 81,\n",
       " 'Plantain family': 25,\n",
       " 'Buttercup family': 21,\n",
       " 'Pea family': 63,\n",
       " 'Rose family': 49,\n",
       " 'Rush family': 19,\n",
       " 'Buckwheat family': 17,\n",
       " 'Pine family': 10,\n",
       " 'Mint family': 45,\n",
       " None: 113,\n",
       " 'Pink family': 31,\n",
       " 'Carrot family': 29,\n",
       " 'Geranium family': 10,\n",
       " 'Aster family': 80,\n",
       " 'Heath family': 17,\n",
       " 'Mustard family': 29,\n",
       " 'Evening Primrose family': 10,\n",
       " 'Sedge family': 41,\n",
       " 'Borage family': 13,\n",
       " 'Primrose family': 12,\n",
       " 'Spurge family': 10,\n",
       " 'Broom-rape family': 10,\n",
       " 'Tape-grass family': 10}"
      ]
     },
     "execution_count": 52,
     "metadata": {},
     "output_type": "execute_result"
    }
   ],
   "source": [
    "fams_clean = { family: count  for family, count in plant_dict.items() if count >= 10 }\n",
    "fams_clean"
   ]
  },
  {
   "cell_type": "markdown",
   "metadata": {
    "hidden": true
   },
   "source": [
    "Now we can make a bar chart of the numbers:"
   ]
  },
  {
   "cell_type": "code",
   "execution_count": 53,
   "metadata": {},
   "outputs": [],
   "source": [
    "# Need to import matplotlib first\n",
    "import matplotlib.pyplot as plt"
   ]
  },
  {
   "cell_type": "code",
   "execution_count": 54,
   "metadata": {
    "hidden": true,
    "scrolled": true
   },
   "outputs": [],
   "source": [
    "plt.style.use('seaborn')"
   ]
  },
  {
   "cell_type": "code",
   "execution_count": 55,
   "metadata": {
    "hidden": true
   },
   "outputs": [
    {
     "ename": "TypeError",
     "evalue": "'value' must be an instance of str or bytes, not a NoneType",
     "output_type": "error",
     "traceback": [
      "\u001b[1;31m---------------------------------------------------------------------------\u001b[0m",
      "\u001b[1;31mTypeError\u001b[0m                                 Traceback (most recent call last)",
      "\u001b[1;32m<ipython-input-55-72fbbbd74ebc>\u001b[0m in \u001b[0;36m<module>\u001b[1;34m\u001b[0m\n\u001b[0;32m      1\u001b[0m \u001b[0mfig\u001b[0m\u001b[1;33m,\u001b[0m \u001b[0max\u001b[0m \u001b[1;33m=\u001b[0m \u001b[0mplt\u001b[0m\u001b[1;33m.\u001b[0m\u001b[0msubplots\u001b[0m\u001b[1;33m(\u001b[0m\u001b[0mfigsize\u001b[0m\u001b[1;33m=\u001b[0m\u001b[1;33m(\u001b[0m\u001b[1;36m20\u001b[0m\u001b[1;33m,\u001b[0m \u001b[1;36m12\u001b[0m\u001b[1;33m)\u001b[0m\u001b[1;33m)\u001b[0m\u001b[1;33m\u001b[0m\u001b[1;33m\u001b[0m\u001b[0m\n\u001b[0;32m      2\u001b[0m \u001b[1;33m\u001b[0m\u001b[0m\n\u001b[1;32m----> 3\u001b[1;33m \u001b[0max\u001b[0m\u001b[1;33m.\u001b[0m\u001b[0mbar\u001b[0m\u001b[1;33m(\u001b[0m\u001b[0mx\u001b[0m\u001b[1;33m=\u001b[0m\u001b[0mlist\u001b[0m\u001b[1;33m(\u001b[0m\u001b[0mfams_clean\u001b[0m\u001b[1;33m.\u001b[0m\u001b[0mkeys\u001b[0m\u001b[1;33m(\u001b[0m\u001b[1;33m)\u001b[0m\u001b[1;33m)\u001b[0m\u001b[1;33m,\u001b[0m \u001b[0mheight\u001b[0m\u001b[1;33m=\u001b[0m\u001b[0mlist\u001b[0m\u001b[1;33m(\u001b[0m\u001b[0mfams_clean\u001b[0m\u001b[1;33m.\u001b[0m\u001b[0mvalues\u001b[0m\u001b[1;33m(\u001b[0m\u001b[1;33m)\u001b[0m\u001b[1;33m)\u001b[0m\u001b[1;33m)\u001b[0m\u001b[1;33m\u001b[0m\u001b[1;33m\u001b[0m\u001b[0m\n\u001b[0m\u001b[0;32m      4\u001b[0m \u001b[0max\u001b[0m\u001b[1;33m.\u001b[0m\u001b[0mset_title\u001b[0m\u001b[1;33m(\u001b[0m\u001b[1;34m'Families by Number'\u001b[0m\u001b[1;33m,\u001b[0m \u001b[0mfontsize\u001b[0m\u001b[1;33m=\u001b[0m\u001b[1;36m30\u001b[0m\u001b[1;33m)\u001b[0m\u001b[1;33m\u001b[0m\u001b[1;33m\u001b[0m\u001b[0m\n\u001b[0;32m      5\u001b[0m \u001b[0mplt\u001b[0m\u001b[1;33m.\u001b[0m\u001b[0mxticks\u001b[0m\u001b[1;33m(\u001b[0m\u001b[0mrotation\u001b[0m\u001b[1;33m=\u001b[0m\u001b[1;36m80\u001b[0m\u001b[1;33m,\u001b[0m \u001b[0mfontsize\u001b[0m\u001b[1;33m=\u001b[0m\u001b[1;36m20\u001b[0m\u001b[1;33m)\u001b[0m\u001b[1;33m\u001b[0m\u001b[1;33m\u001b[0m\u001b[0m\n",
      "\u001b[1;32m~\\anaconda3\\envs\\learn-env\\lib\\site-packages\\matplotlib\\__init__.py\u001b[0m in \u001b[0;36minner\u001b[1;34m(ax, data, *args, **kwargs)\u001b[0m\n\u001b[0;32m   1436\u001b[0m     \u001b[1;32mdef\u001b[0m \u001b[0minner\u001b[0m\u001b[1;33m(\u001b[0m\u001b[0max\u001b[0m\u001b[1;33m,\u001b[0m \u001b[1;33m*\u001b[0m\u001b[0margs\u001b[0m\u001b[1;33m,\u001b[0m \u001b[0mdata\u001b[0m\u001b[1;33m=\u001b[0m\u001b[1;32mNone\u001b[0m\u001b[1;33m,\u001b[0m \u001b[1;33m**\u001b[0m\u001b[0mkwargs\u001b[0m\u001b[1;33m)\u001b[0m\u001b[1;33m:\u001b[0m\u001b[1;33m\u001b[0m\u001b[1;33m\u001b[0m\u001b[0m\n\u001b[0;32m   1437\u001b[0m         \u001b[1;32mif\u001b[0m \u001b[0mdata\u001b[0m \u001b[1;32mis\u001b[0m \u001b[1;32mNone\u001b[0m\u001b[1;33m:\u001b[0m\u001b[1;33m\u001b[0m\u001b[1;33m\u001b[0m\u001b[0m\n\u001b[1;32m-> 1438\u001b[1;33m             \u001b[1;32mreturn\u001b[0m \u001b[0mfunc\u001b[0m\u001b[1;33m(\u001b[0m\u001b[0max\u001b[0m\u001b[1;33m,\u001b[0m \u001b[1;33m*\u001b[0m\u001b[0mmap\u001b[0m\u001b[1;33m(\u001b[0m\u001b[0msanitize_sequence\u001b[0m\u001b[1;33m,\u001b[0m \u001b[0margs\u001b[0m\u001b[1;33m)\u001b[0m\u001b[1;33m,\u001b[0m \u001b[1;33m**\u001b[0m\u001b[0mkwargs\u001b[0m\u001b[1;33m)\u001b[0m\u001b[1;33m\u001b[0m\u001b[1;33m\u001b[0m\u001b[0m\n\u001b[0m\u001b[0;32m   1439\u001b[0m \u001b[1;33m\u001b[0m\u001b[0m\n\u001b[0;32m   1440\u001b[0m         \u001b[0mbound\u001b[0m \u001b[1;33m=\u001b[0m \u001b[0mnew_sig\u001b[0m\u001b[1;33m.\u001b[0m\u001b[0mbind\u001b[0m\u001b[1;33m(\u001b[0m\u001b[0max\u001b[0m\u001b[1;33m,\u001b[0m \u001b[1;33m*\u001b[0m\u001b[0margs\u001b[0m\u001b[1;33m,\u001b[0m \u001b[1;33m**\u001b[0m\u001b[0mkwargs\u001b[0m\u001b[1;33m)\u001b[0m\u001b[1;33m\u001b[0m\u001b[1;33m\u001b[0m\u001b[0m\n",
      "\u001b[1;32m~\\anaconda3\\envs\\learn-env\\lib\\site-packages\\matplotlib\\axes\\_axes.py\u001b[0m in \u001b[0;36mbar\u001b[1;34m(self, x, height, width, bottom, align, **kwargs)\u001b[0m\n\u001b[0;32m   2405\u001b[0m \u001b[1;33m\u001b[0m\u001b[0m\n\u001b[0;32m   2406\u001b[0m         \u001b[1;32mif\u001b[0m \u001b[0morientation\u001b[0m \u001b[1;33m==\u001b[0m \u001b[1;34m'vertical'\u001b[0m\u001b[1;33m:\u001b[0m\u001b[1;33m\u001b[0m\u001b[1;33m\u001b[0m\u001b[0m\n\u001b[1;32m-> 2407\u001b[1;33m             \u001b[0mself\u001b[0m\u001b[1;33m.\u001b[0m\u001b[0m_process_unit_info\u001b[0m\u001b[1;33m(\u001b[0m\u001b[0mxdata\u001b[0m\u001b[1;33m=\u001b[0m\u001b[0mx\u001b[0m\u001b[1;33m,\u001b[0m \u001b[0mydata\u001b[0m\u001b[1;33m=\u001b[0m\u001b[0mheight\u001b[0m\u001b[1;33m,\u001b[0m \u001b[0mkwargs\u001b[0m\u001b[1;33m=\u001b[0m\u001b[0mkwargs\u001b[0m\u001b[1;33m)\u001b[0m\u001b[1;33m\u001b[0m\u001b[1;33m\u001b[0m\u001b[0m\n\u001b[0m\u001b[0;32m   2408\u001b[0m             \u001b[1;32mif\u001b[0m \u001b[0mlog\u001b[0m\u001b[1;33m:\u001b[0m\u001b[1;33m\u001b[0m\u001b[1;33m\u001b[0m\u001b[0m\n\u001b[0;32m   2409\u001b[0m                 \u001b[0mself\u001b[0m\u001b[1;33m.\u001b[0m\u001b[0mset_yscale\u001b[0m\u001b[1;33m(\u001b[0m\u001b[1;34m'log'\u001b[0m\u001b[1;33m,\u001b[0m \u001b[0mnonpositive\u001b[0m\u001b[1;33m=\u001b[0m\u001b[1;34m'clip'\u001b[0m\u001b[1;33m)\u001b[0m\u001b[1;33m\u001b[0m\u001b[1;33m\u001b[0m\u001b[0m\n",
      "\u001b[1;32m~\\anaconda3\\envs\\learn-env\\lib\\site-packages\\matplotlib\\axes\\_base.py\u001b[0m in \u001b[0;36m_process_unit_info\u001b[1;34m(self, xdata, ydata, kwargs)\u001b[0m\n\u001b[0;32m   2192\u001b[0m             \u001b[1;32mreturn\u001b[0m \u001b[0mkwargs\u001b[0m\u001b[1;33m\u001b[0m\u001b[1;33m\u001b[0m\u001b[0m\n\u001b[0;32m   2193\u001b[0m \u001b[1;33m\u001b[0m\u001b[0m\n\u001b[1;32m-> 2194\u001b[1;33m         \u001b[0mkwargs\u001b[0m \u001b[1;33m=\u001b[0m \u001b[0m_process_single_axis\u001b[0m\u001b[1;33m(\u001b[0m\u001b[0mxdata\u001b[0m\u001b[1;33m,\u001b[0m \u001b[0mself\u001b[0m\u001b[1;33m.\u001b[0m\u001b[0mxaxis\u001b[0m\u001b[1;33m,\u001b[0m \u001b[1;34m'xunits'\u001b[0m\u001b[1;33m,\u001b[0m \u001b[0mkwargs\u001b[0m\u001b[1;33m)\u001b[0m\u001b[1;33m\u001b[0m\u001b[1;33m\u001b[0m\u001b[0m\n\u001b[0m\u001b[0;32m   2195\u001b[0m         \u001b[0mkwargs\u001b[0m \u001b[1;33m=\u001b[0m \u001b[0m_process_single_axis\u001b[0m\u001b[1;33m(\u001b[0m\u001b[0mydata\u001b[0m\u001b[1;33m,\u001b[0m \u001b[0mself\u001b[0m\u001b[1;33m.\u001b[0m\u001b[0myaxis\u001b[0m\u001b[1;33m,\u001b[0m \u001b[1;34m'yunits'\u001b[0m\u001b[1;33m,\u001b[0m \u001b[0mkwargs\u001b[0m\u001b[1;33m)\u001b[0m\u001b[1;33m\u001b[0m\u001b[1;33m\u001b[0m\u001b[0m\n\u001b[0;32m   2196\u001b[0m         \u001b[1;32mreturn\u001b[0m \u001b[0mkwargs\u001b[0m\u001b[1;33m\u001b[0m\u001b[1;33m\u001b[0m\u001b[0m\n",
      "\u001b[1;32m~\\anaconda3\\envs\\learn-env\\lib\\site-packages\\matplotlib\\axes\\_base.py\u001b[0m in \u001b[0;36m_process_single_axis\u001b[1;34m(data, axis, unit_name, kwargs)\u001b[0m\n\u001b[0;32m   2175\u001b[0m                 \u001b[1;31m# We only need to update if there is nothing set yet.\u001b[0m\u001b[1;33m\u001b[0m\u001b[1;33m\u001b[0m\u001b[1;33m\u001b[0m\u001b[0m\n\u001b[0;32m   2176\u001b[0m                 \u001b[1;32mif\u001b[0m \u001b[1;32mnot\u001b[0m \u001b[0maxis\u001b[0m\u001b[1;33m.\u001b[0m\u001b[0mhave_units\u001b[0m\u001b[1;33m(\u001b[0m\u001b[1;33m)\u001b[0m\u001b[1;33m:\u001b[0m\u001b[1;33m\u001b[0m\u001b[1;33m\u001b[0m\u001b[0m\n\u001b[1;32m-> 2177\u001b[1;33m                     \u001b[0maxis\u001b[0m\u001b[1;33m.\u001b[0m\u001b[0mupdate_units\u001b[0m\u001b[1;33m(\u001b[0m\u001b[0mdata\u001b[0m\u001b[1;33m)\u001b[0m\u001b[1;33m\u001b[0m\u001b[1;33m\u001b[0m\u001b[0m\n\u001b[0m\u001b[0;32m   2178\u001b[0m \u001b[1;33m\u001b[0m\u001b[0m\n\u001b[0;32m   2179\u001b[0m             \u001b[1;31m# Check for units in the kwargs, and if present update axis\u001b[0m\u001b[1;33m\u001b[0m\u001b[1;33m\u001b[0m\u001b[1;33m\u001b[0m\u001b[0m\n",
      "\u001b[1;32m~\\anaconda3\\envs\\learn-env\\lib\\site-packages\\matplotlib\\axis.py\u001b[0m in \u001b[0;36mupdate_units\u001b[1;34m(self, data)\u001b[0m\n\u001b[0;32m   1461\u001b[0m         \u001b[0mneednew\u001b[0m \u001b[1;33m=\u001b[0m \u001b[0mself\u001b[0m\u001b[1;33m.\u001b[0m\u001b[0mconverter\u001b[0m \u001b[1;33m!=\u001b[0m \u001b[0mconverter\u001b[0m\u001b[1;33m\u001b[0m\u001b[1;33m\u001b[0m\u001b[0m\n\u001b[0;32m   1462\u001b[0m         \u001b[0mself\u001b[0m\u001b[1;33m.\u001b[0m\u001b[0mconverter\u001b[0m \u001b[1;33m=\u001b[0m \u001b[0mconverter\u001b[0m\u001b[1;33m\u001b[0m\u001b[1;33m\u001b[0m\u001b[0m\n\u001b[1;32m-> 1463\u001b[1;33m         \u001b[0mdefault\u001b[0m \u001b[1;33m=\u001b[0m \u001b[0mself\u001b[0m\u001b[1;33m.\u001b[0m\u001b[0mconverter\u001b[0m\u001b[1;33m.\u001b[0m\u001b[0mdefault_units\u001b[0m\u001b[1;33m(\u001b[0m\u001b[0mdata\u001b[0m\u001b[1;33m,\u001b[0m \u001b[0mself\u001b[0m\u001b[1;33m)\u001b[0m\u001b[1;33m\u001b[0m\u001b[1;33m\u001b[0m\u001b[0m\n\u001b[0m\u001b[0;32m   1464\u001b[0m         \u001b[1;32mif\u001b[0m \u001b[0mdefault\u001b[0m \u001b[1;32mis\u001b[0m \u001b[1;32mnot\u001b[0m \u001b[1;32mNone\u001b[0m \u001b[1;32mand\u001b[0m \u001b[0mself\u001b[0m\u001b[1;33m.\u001b[0m\u001b[0munits\u001b[0m \u001b[1;32mis\u001b[0m \u001b[1;32mNone\u001b[0m\u001b[1;33m:\u001b[0m\u001b[1;33m\u001b[0m\u001b[1;33m\u001b[0m\u001b[0m\n\u001b[0;32m   1465\u001b[0m             \u001b[0mself\u001b[0m\u001b[1;33m.\u001b[0m\u001b[0mset_units\u001b[0m\u001b[1;33m(\u001b[0m\u001b[0mdefault\u001b[0m\u001b[1;33m)\u001b[0m\u001b[1;33m\u001b[0m\u001b[1;33m\u001b[0m\u001b[0m\n",
      "\u001b[1;32m~\\anaconda3\\envs\\learn-env\\lib\\site-packages\\matplotlib\\category.py\u001b[0m in \u001b[0;36mdefault_units\u001b[1;34m(data, axis)\u001b[0m\n\u001b[0;32m    105\u001b[0m         \u001b[1;31m# the conversion call stack is default_units -> axis_info -> convert\u001b[0m\u001b[1;33m\u001b[0m\u001b[1;33m\u001b[0m\u001b[1;33m\u001b[0m\u001b[0m\n\u001b[0;32m    106\u001b[0m         \u001b[1;32mif\u001b[0m \u001b[0maxis\u001b[0m\u001b[1;33m.\u001b[0m\u001b[0munits\u001b[0m \u001b[1;32mis\u001b[0m \u001b[1;32mNone\u001b[0m\u001b[1;33m:\u001b[0m\u001b[1;33m\u001b[0m\u001b[1;33m\u001b[0m\u001b[0m\n\u001b[1;32m--> 107\u001b[1;33m             \u001b[0maxis\u001b[0m\u001b[1;33m.\u001b[0m\u001b[0mset_units\u001b[0m\u001b[1;33m(\u001b[0m\u001b[0mUnitData\u001b[0m\u001b[1;33m(\u001b[0m\u001b[0mdata\u001b[0m\u001b[1;33m)\u001b[0m\u001b[1;33m)\u001b[0m\u001b[1;33m\u001b[0m\u001b[1;33m\u001b[0m\u001b[0m\n\u001b[0m\u001b[0;32m    108\u001b[0m         \u001b[1;32melse\u001b[0m\u001b[1;33m:\u001b[0m\u001b[1;33m\u001b[0m\u001b[1;33m\u001b[0m\u001b[0m\n\u001b[0;32m    109\u001b[0m             \u001b[0maxis\u001b[0m\u001b[1;33m.\u001b[0m\u001b[0munits\u001b[0m\u001b[1;33m.\u001b[0m\u001b[0mupdate\u001b[0m\u001b[1;33m(\u001b[0m\u001b[0mdata\u001b[0m\u001b[1;33m)\u001b[0m\u001b[1;33m\u001b[0m\u001b[1;33m\u001b[0m\u001b[0m\n",
      "\u001b[1;32m~\\anaconda3\\envs\\learn-env\\lib\\site-packages\\matplotlib\\category.py\u001b[0m in \u001b[0;36m__init__\u001b[1;34m(self, data)\u001b[0m\n\u001b[0;32m    174\u001b[0m         \u001b[0mself\u001b[0m\u001b[1;33m.\u001b[0m\u001b[0m_counter\u001b[0m \u001b[1;33m=\u001b[0m \u001b[0mitertools\u001b[0m\u001b[1;33m.\u001b[0m\u001b[0mcount\u001b[0m\u001b[1;33m(\u001b[0m\u001b[1;33m)\u001b[0m\u001b[1;33m\u001b[0m\u001b[1;33m\u001b[0m\u001b[0m\n\u001b[0;32m    175\u001b[0m         \u001b[1;32mif\u001b[0m \u001b[0mdata\u001b[0m \u001b[1;32mis\u001b[0m \u001b[1;32mnot\u001b[0m \u001b[1;32mNone\u001b[0m\u001b[1;33m:\u001b[0m\u001b[1;33m\u001b[0m\u001b[1;33m\u001b[0m\u001b[0m\n\u001b[1;32m--> 176\u001b[1;33m             \u001b[0mself\u001b[0m\u001b[1;33m.\u001b[0m\u001b[0mupdate\u001b[0m\u001b[1;33m(\u001b[0m\u001b[0mdata\u001b[0m\u001b[1;33m)\u001b[0m\u001b[1;33m\u001b[0m\u001b[1;33m\u001b[0m\u001b[0m\n\u001b[0m\u001b[0;32m    177\u001b[0m \u001b[1;33m\u001b[0m\u001b[0m\n\u001b[0;32m    178\u001b[0m     \u001b[1;33m@\u001b[0m\u001b[0mstaticmethod\u001b[0m\u001b[1;33m\u001b[0m\u001b[1;33m\u001b[0m\u001b[0m\n",
      "\u001b[1;32m~\\anaconda3\\envs\\learn-env\\lib\\site-packages\\matplotlib\\category.py\u001b[0m in \u001b[0;36mupdate\u001b[1;34m(self, data)\u001b[0m\n\u001b[0;32m    209\u001b[0m         \u001b[1;32mfor\u001b[0m \u001b[0mval\u001b[0m \u001b[1;32min\u001b[0m \u001b[0mOrderedDict\u001b[0m\u001b[1;33m.\u001b[0m\u001b[0mfromkeys\u001b[0m\u001b[1;33m(\u001b[0m\u001b[0mdata\u001b[0m\u001b[1;33m)\u001b[0m\u001b[1;33m:\u001b[0m\u001b[1;33m\u001b[0m\u001b[1;33m\u001b[0m\u001b[0m\n\u001b[0;32m    210\u001b[0m             \u001b[1;31m# OrderedDict just iterates over unique values in data.\u001b[0m\u001b[1;33m\u001b[0m\u001b[1;33m\u001b[0m\u001b[1;33m\u001b[0m\u001b[0m\n\u001b[1;32m--> 211\u001b[1;33m             \u001b[0mcbook\u001b[0m\u001b[1;33m.\u001b[0m\u001b[0m_check_isinstance\u001b[0m\u001b[1;33m(\u001b[0m\u001b[1;33m(\u001b[0m\u001b[0mstr\u001b[0m\u001b[1;33m,\u001b[0m \u001b[0mbytes\u001b[0m\u001b[1;33m)\u001b[0m\u001b[1;33m,\u001b[0m \u001b[0mvalue\u001b[0m\u001b[1;33m=\u001b[0m\u001b[0mval\u001b[0m\u001b[1;33m)\u001b[0m\u001b[1;33m\u001b[0m\u001b[1;33m\u001b[0m\u001b[0m\n\u001b[0m\u001b[0;32m    212\u001b[0m             \u001b[1;32mif\u001b[0m \u001b[0mconvertible\u001b[0m\u001b[1;33m:\u001b[0m\u001b[1;33m\u001b[0m\u001b[1;33m\u001b[0m\u001b[0m\n\u001b[0;32m    213\u001b[0m                 \u001b[1;31m# this will only be called so long as convertible is True.\u001b[0m\u001b[1;33m\u001b[0m\u001b[1;33m\u001b[0m\u001b[1;33m\u001b[0m\u001b[0m\n",
      "\u001b[1;32m~\\anaconda3\\envs\\learn-env\\lib\\site-packages\\matplotlib\\cbook\\__init__.py\u001b[0m in \u001b[0;36m_check_isinstance\u001b[1;34m(_types, **kwargs)\u001b[0m\n\u001b[0;32m   2233\u001b[0m     \u001b[1;32mfor\u001b[0m \u001b[0mk\u001b[0m\u001b[1;33m,\u001b[0m \u001b[0mv\u001b[0m \u001b[1;32min\u001b[0m \u001b[0mkwargs\u001b[0m\u001b[1;33m.\u001b[0m\u001b[0mitems\u001b[0m\u001b[1;33m(\u001b[0m\u001b[1;33m)\u001b[0m\u001b[1;33m:\u001b[0m\u001b[1;33m\u001b[0m\u001b[1;33m\u001b[0m\u001b[0m\n\u001b[0;32m   2234\u001b[0m         \u001b[1;32mif\u001b[0m \u001b[1;32mnot\u001b[0m \u001b[0misinstance\u001b[0m\u001b[1;33m(\u001b[0m\u001b[0mv\u001b[0m\u001b[1;33m,\u001b[0m \u001b[0mtypes\u001b[0m\u001b[1;33m)\u001b[0m\u001b[1;33m:\u001b[0m\u001b[1;33m\u001b[0m\u001b[1;33m\u001b[0m\u001b[0m\n\u001b[1;32m-> 2235\u001b[1;33m             raise TypeError(\n\u001b[0m\u001b[0;32m   2236\u001b[0m                 \"{!r} must be an instance of {}, not a {}\".format(\n\u001b[0;32m   2237\u001b[0m                     \u001b[0mk\u001b[0m\u001b[1;33m,\u001b[0m\u001b[1;33m\u001b[0m\u001b[1;33m\u001b[0m\u001b[0m\n",
      "\u001b[1;31mTypeError\u001b[0m: 'value' must be an instance of str or bytes, not a NoneType"
     ]
    },
    {
     "data": {
      "image/png": "[encoded data removed]",
      "text/plain": [
       "<Figure size 1440x864 with 1 Axes>"
      ]
     },
     "metadata": {},
     "output_type": "display_data"
    }
   ],
   "source": [
    "fig, ax = plt.subplots(figsize=(20, 12))\n",
    "\n",
    "ax.bar(x=list(fams_clean.keys()), height=list(fams_clean.values()))\n",
    "ax.set_title('Families by Number', fontsize=30)\n",
    "plt.xticks(rotation=80, fontsize=20)\n",
    "plt.yticks(fontsize=20);"
   ]
  },
  {
   "cell_type": "markdown",
   "metadata": {
    "heading_collapsed": true,
    "hidden": true
   },
   "source": [
    "## Synonyms"
   ]
  },
  {
   "cell_type": "markdown",
   "metadata": {
    "hidden": true
   },
   "source": [
    "Suppose we wanted to know how many synonymous names were listed for each plant. We could grab this number with a list comprehension:"
   ]
  },
  {
   "cell_type": "code",
   "execution_count": 42,
   "metadata": {},
   "outputs": [
    {
     "data": {
      "text/plain": [
       "['Quercus lyauteyi',\n",
       " 'Quercus rotundifolia f. crassicupulata',\n",
       " 'Quercus ballota',\n",
       " 'Quercus ilex f. brevicupulata',\n",
       " 'Quercus calycina',\n",
       " 'Quercus rotundifolia f. dolichocalyx',\n",
       " 'Quercus rotundifolia f. pilosella',\n",
       " 'Quercus rotundifolia f. macrocarpa',\n",
       " 'Quercus rotundifolia f. calycina',\n",
       " 'Quercus ilex f. macrocarpa',\n",
       " 'Quercus ilex subsp. ballota',\n",
       " 'Quercus rotundifolia var. pilosella',\n",
       " 'Quercus rotundifolia var. brevicupulata',\n",
       " 'Quercus rotundifolia subsp. maghrebiana',\n",
       " 'Quercus rotundifolia f. brevicupulata',\n",
       " 'Quercus rotundifolia var. macrocarpa']"
      ]
     },
     "execution_count": 42,
     "metadata": {},
     "output_type": "execute_result"
    }
   ],
   "source": [
    "plants[0]['synonyms']"
   ]
  },
  {
   "cell_type": "code",
   "execution_count": 46,
   "metadata": {
    "hidden": true
   },
   "outputs": [
    {
     "data": {
      "text/plain": [
       "[16,\n",
       " 6,\n",
       " 31,\n",
       " 37,\n",
       " 121,\n",
       " 192,\n",
       " 20,\n",
       " 17,\n",
       " 4,\n",
       " 62,\n",
       " 29,\n",
       " 36,\n",
       " 43,\n",
       " 14,\n",
       " 13,\n",
       " 15,\n",
       " 32,\n",
       " 8,\n",
       " 18,\n",
       " 12,\n",
       " 43,\n",
       " 78,\n",
       " 28,\n",
       " 41,\n",
       " 81,\n",
       " 23,\n",
       " 15,\n",
       " 24,\n",
       " 16,\n",
       " 72,\n",
       " 8,\n",
       " 16,\n",
       " 30,\n",
       " 65,\n",
       " 47,\n",
       " 11,\n",
       " 46,\n",
       " 4,\n",
       " 178,\n",
       " 41,\n",
       " 71,\n",
       " 39,\n",
       " 7,\n",
       " 24,\n",
       " 14,\n",
       " 6,\n",
       " 9,\n",
       " 41,\n",
       " 32,\n",
       " 6,\n",
       " 40,\n",
       " 14,\n",
       " 76,\n",
       " 37,\n",
       " 23,\n",
       " 6,\n",
       " 37,\n",
       " 129,\n",
       " 28,\n",
       " 40,\n",
       " 31,\n",
       " 64,\n",
       " 20,\n",
       " 26,\n",
       " 15,\n",
       " 25,\n",
       " 21,\n",
       " 9,\n",
       " 6,\n",
       " 33,\n",
       " 17,\n",
       " 20,\n",
       " 10,\n",
       " 17,\n",
       " 17,\n",
       " 38,\n",
       " 49,\n",
       " 21,\n",
       " 11,\n",
       " 41,\n",
       " 22,\n",
       " 28,\n",
       " 34,\n",
       " 21,\n",
       " 11,\n",
       " 22,\n",
       " 24,\n",
       " 85,\n",
       " 14,\n",
       " 12,\n",
       " 10,\n",
       " 12,\n",
       " 0,\n",
       " 54,\n",
       " 6,\n",
       " 74,\n",
       " 18,\n",
       " 29,\n",
       " 21,\n",
       " 8,\n",
       " 15,\n",
       " 30,\n",
       " 38,\n",
       " 57,\n",
       " 9,\n",
       " 68,\n",
       " 38,\n",
       " 69,\n",
       " 13,\n",
       " 128,\n",
       " 56,\n",
       " 12,\n",
       " 13,\n",
       " 10,\n",
       " 39,\n",
       " 151,\n",
       " 25,\n",
       " 54,\n",
       " 19,\n",
       " 14,\n",
       " 13,\n",
       " 48,\n",
       " 12,\n",
       " 31,\n",
       " 33,\n",
       " 11,\n",
       " 67,\n",
       " 36,\n",
       " 7,\n",
       " 47,\n",
       " 13,\n",
       " 29,\n",
       " 12,\n",
       " 5,\n",
       " 26,\n",
       " 21,\n",
       " 17,\n",
       " 10,\n",
       " 22,\n",
       " 42,\n",
       " 66,\n",
       " 63,\n",
       " 19,\n",
       " 29,\n",
       " 97,\n",
       " 49,\n",
       " 28,\n",
       " 14,\n",
       " 17,\n",
       " 15,\n",
       " 48,\n",
       " 13,\n",
       " 15,\n",
       " 27,\n",
       " 20,\n",
       " 49,\n",
       " 8,\n",
       " 9,\n",
       " 14,\n",
       " 8,\n",
       " 3,\n",
       " 13,\n",
       " 6,\n",
       " 41,\n",
       " 42,\n",
       " 27,\n",
       " 26,\n",
       " 14,\n",
       " 17,\n",
       " 23,\n",
       " 14,\n",
       " 24,\n",
       " 25,\n",
       " 2,\n",
       " 7,\n",
       " 19,\n",
       " 40,\n",
       " 13,\n",
       " 73,\n",
       " 17,\n",
       " 44,\n",
       " 16,\n",
       " 5,\n",
       " 12,\n",
       " 11,\n",
       " 35,\n",
       " 79,\n",
       " 5,\n",
       " 29,\n",
       " 10,\n",
       " 6,\n",
       " 19,\n",
       " 14,\n",
       " 28,\n",
       " 21,\n",
       " 32,\n",
       " 16,\n",
       " 28,\n",
       " 4,\n",
       " 10,\n",
       " 40,\n",
       " 6,\n",
       " 9,\n",
       " 15,\n",
       " 6,\n",
       " 39,\n",
       " 13,\n",
       " 51,\n",
       " 5,\n",
       " 12,\n",
       " 26,\n",
       " 7,\n",
       " 56,\n",
       " 32,\n",
       " 7,\n",
       " 28,\n",
       " 12,\n",
       " 11,\n",
       " 1,\n",
       " 12,\n",
       " 9,\n",
       " 53,\n",
       " 30,\n",
       " 13,\n",
       " 11,\n",
       " 7,\n",
       " 21,\n",
       " 7,\n",
       " 14,\n",
       " 3,\n",
       " 14,\n",
       " 6,\n",
       " 72,\n",
       " 109,\n",
       " 15,\n",
       " 15,\n",
       " 18,\n",
       " 24,\n",
       " 7,\n",
       " 53,\n",
       " 15,\n",
       " 8,\n",
       " 30,\n",
       " 3,\n",
       " 52,\n",
       " 3,\n",
       " 3,\n",
       " 30,\n",
       " 10,\n",
       " 30,\n",
       " 13,\n",
       " 16,\n",
       " 7,\n",
       " 7,\n",
       " 9,\n",
       " 24,\n",
       " 12,\n",
       " 32,\n",
       " 5,\n",
       " 12,\n",
       " 1,\n",
       " 19,\n",
       " 24,\n",
       " 20,\n",
       " 14,\n",
       " 10,\n",
       " 43,\n",
       " 0,\n",
       " 9,\n",
       " 12,\n",
       " 21,\n",
       " 13,\n",
       " 25,\n",
       " 43,\n",
       " 19,\n",
       " 8,\n",
       " 19,\n",
       " 18,\n",
       " 12,\n",
       " 17,\n",
       " 41,\n",
       " 8,\n",
       " 14,\n",
       " 76,\n",
       " 24,\n",
       " 22,\n",
       " 3,\n",
       " 14,\n",
       " 22,\n",
       " 12,\n",
       " 143,\n",
       " 23,\n",
       " 56,\n",
       " 57,\n",
       " 15,\n",
       " 36,\n",
       " 10,\n",
       " 24,\n",
       " 20,\n",
       " 8,\n",
       " 9,\n",
       " 5,\n",
       " 3,\n",
       " 70,\n",
       " 8,\n",
       " 67,\n",
       " 85,\n",
       " 9,\n",
       " 8,\n",
       " 24,\n",
       " 20,\n",
       " 16,\n",
       " 29,\n",
       " 2,\n",
       " 1,\n",
       " 20,\n",
       " 17,\n",
       " 1,\n",
       " 43,\n",
       " 25,\n",
       " 43,\n",
       " 18,\n",
       " 7,\n",
       " 20,\n",
       " 25,\n",
       " 23,\n",
       " 20,\n",
       " 27,\n",
       " 25,\n",
       " 39,\n",
       " 8,\n",
       " 18,\n",
       " 1,\n",
       " 6,\n",
       " 16,\n",
       " 55,\n",
       " 22,\n",
       " 15,\n",
       " 7,\n",
       " 21,\n",
       " 70,\n",
       " 4,\n",
       " 23,\n",
       " 38,\n",
       " 3,\n",
       " 35,\n",
       " 9,\n",
       " 33,\n",
       " 29,\n",
       " 25,\n",
       " 16,\n",
       " 12,\n",
       " 22,\n",
       " 14,\n",
       " 11,\n",
       " 15,\n",
       " 42,\n",
       " 9,\n",
       " 0,\n",
       " 21,\n",
       " 38,\n",
       " 44,\n",
       " 9,\n",
       " 31,\n",
       " 16,\n",
       " 21,\n",
       " 3,\n",
       " 2,\n",
       " 13,\n",
       " 51,\n",
       " 1,\n",
       " 31,\n",
       " 4,\n",
       " 9,\n",
       " 12,\n",
       " 21,\n",
       " 9,\n",
       " 8,\n",
       " 12,\n",
       " 8,\n",
       " 30,\n",
       " 34,\n",
       " 17,\n",
       " 10,\n",
       " 56,\n",
       " 12,\n",
       " 8,\n",
       " 12,\n",
       " 9,\n",
       " 41,\n",
       " 13,\n",
       " 1,\n",
       " 0,\n",
       " 24,\n",
       " 19,\n",
       " 25,\n",
       " 41,\n",
       " 6,\n",
       " 23,\n",
       " 23,\n",
       " 7,\n",
       " 22,\n",
       " 59,\n",
       " 22,\n",
       " 7,\n",
       " 8,\n",
       " 6,\n",
       " 21,\n",
       " 15,\n",
       " 4,\n",
       " 13,\n",
       " 4,\n",
       " 10,\n",
       " 12,\n",
       " 13,\n",
       " 13,\n",
       " 84,\n",
       " 17,\n",
       " 86,\n",
       " 9,\n",
       " 32,\n",
       " 13,\n",
       " 10,\n",
       " 51,\n",
       " 12,\n",
       " 18,\n",
       " 15,\n",
       " 14,\n",
       " 2,\n",
       " 64,\n",
       " 33,\n",
       " 25,\n",
       " 27,\n",
       " 18,\n",
       " 24,\n",
       " 9,\n",
       " 41,\n",
       " 8,\n",
       " 35,\n",
       " 2,\n",
       " 13,\n",
       " 8,\n",
       " 7,\n",
       " 46,\n",
       " 59,\n",
       " 25,\n",
       " 35,\n",
       " 12,\n",
       " 26,\n",
       " 1,\n",
       " 5,\n",
       " 50,\n",
       " 30,\n",
       " 3,\n",
       " 6,\n",
       " 3,\n",
       " 19,\n",
       " 25,\n",
       " 8,\n",
       " 12,\n",
       " 69,\n",
       " 26,\n",
       " 20,\n",
       " 18,\n",
       " 26,\n",
       " 9,\n",
       " 9,\n",
       " 16,\n",
       " 18,\n",
       " 29,\n",
       " 16,\n",
       " 11,\n",
       " 8,\n",
       " 51,\n",
       " 20,\n",
       " 14,\n",
       " 5,\n",
       " 33,\n",
       " 4,\n",
       " 15,\n",
       " 167,\n",
       " 7,\n",
       " 3,\n",
       " 24,\n",
       " 46,\n",
       " 13,\n",
       " 0,\n",
       " 21,\n",
       " 10,\n",
       " 21,\n",
       " 9,\n",
       " 22,\n",
       " 10,\n",
       " 26,\n",
       " 17,\n",
       " 21,\n",
       " 3,\n",
       " 21,\n",
       " 11,\n",
       " 3,\n",
       " 20,\n",
       " 8,\n",
       " 32,\n",
       " 45,\n",
       " 0,\n",
       " 15,\n",
       " 41,\n",
       " 26,\n",
       " 4,\n",
       " 0,\n",
       " 13,\n",
       " 17,\n",
       " 0,\n",
       " 15,\n",
       " 20,\n",
       " 12,\n",
       " 3,\n",
       " 7,\n",
       " 10,\n",
       " 23,\n",
       " 27,\n",
       " 46,\n",
       " 12,\n",
       " 3,\n",
       " 0,\n",
       " 14,\n",
       " 70,\n",
       " 23,\n",
       " 15,\n",
       " 32,\n",
       " 6,\n",
       " 12,\n",
       " 1,\n",
       " 13,\n",
       " 70,\n",
       " 5,\n",
       " 16,\n",
       " 17,\n",
       " 11,\n",
       " 22,\n",
       " 0,\n",
       " 0,\n",
       " 24,\n",
       " 5,\n",
       " 21,\n",
       " 12,\n",
       " 0,\n",
       " 20,\n",
       " 23,\n",
       " 9,\n",
       " 19,\n",
       " 11,\n",
       " 342,\n",
       " 8,\n",
       " 21,\n",
       " 36,\n",
       " 10,\n",
       " 14,\n",
       " 18,\n",
       " 10,\n",
       " 3,\n",
       " 22,\n",
       " 7,\n",
       " 10,\n",
       " 19,\n",
       " 9,\n",
       " 14,\n",
       " 27,\n",
       " 13,\n",
       " 5,\n",
       " 12,\n",
       " 8,\n",
       " 19,\n",
       " 29,\n",
       " 52,\n",
       " 25,\n",
       " 11,\n",
       " 7,\n",
       " 48,\n",
       " 10,\n",
       " 5,\n",
       " 30,\n",
       " 3,\n",
       " 9,\n",
       " 1,\n",
       " 17,\n",
       " 11,\n",
       " 4,\n",
       " 1,\n",
       " 19,\n",
       " 1,\n",
       " 4,\n",
       " 6,\n",
       " 7,\n",
       " 3,\n",
       " 21,\n",
       " 4,\n",
       " 42,\n",
       " 3,\n",
       " 34,\n",
       " 1,\n",
       " 2,\n",
       " 9,\n",
       " 0,\n",
       " 2,\n",
       " 1,\n",
       " 4,\n",
       " 3,\n",
       " 6,\n",
       " 3,\n",
       " 72,\n",
       " 3,\n",
       " 39,\n",
       " 0,\n",
       " 0,\n",
       " 4,\n",
       " 0,\n",
       " 10,\n",
       " 2,\n",
       " 10,\n",
       " 59,\n",
       " 71,\n",
       " 28,\n",
       " 15,\n",
       " 0,\n",
       " 38,\n",
       " 15,\n",
       " 13,\n",
       " 72,\n",
       " 25,\n",
       " 3,\n",
       " 15,\n",
       " 0,\n",
       " 9,\n",
       " 37,\n",
       " 25,\n",
       " 10,\n",
       " 13,\n",
       " 16,\n",
       " 25,\n",
       " 5,\n",
       " 1,\n",
       " 11,\n",
       " 8,\n",
       " 17,\n",
       " 6,\n",
       " 29,\n",
       " 22,\n",
       " 17,\n",
       " 23,\n",
       " 24,\n",
       " 33,\n",
       " 77,\n",
       " 5,\n",
       " 7,\n",
       " 23,\n",
       " 0,\n",
       " 10,\n",
       " 0,\n",
       " 59,\n",
       " 18,\n",
       " 15,\n",
       " 6,\n",
       " 9,\n",
       " 17,\n",
       " 22,\n",
       " 12,\n",
       " 6,\n",
       " 15,\n",
       " 7,\n",
       " 69,\n",
       " 6,\n",
       " 20,\n",
       " 5,\n",
       " 1,\n",
       " 13,\n",
       " 40,\n",
       " 6,\n",
       " 18,\n",
       " 19,\n",
       " 30,\n",
       " 12,\n",
       " 3,\n",
       " 3,\n",
       " 1,\n",
       " 10,\n",
       " 26,\n",
       " 3,\n",
       " 4,\n",
       " 33,\n",
       " 10,\n",
       " 21,\n",
       " 9,\n",
       " 9,\n",
       " 19,\n",
       " 1,\n",
       " 24,\n",
       " 6,\n",
       " 3,\n",
       " 4,\n",
       " 9,\n",
       " 16,\n",
       " 18,\n",
       " 13,\n",
       " 9,\n",
       " 23,\n",
       " 74,\n",
       " 21,\n",
       " 9,\n",
       " 6,\n",
       " 14,\n",
       " 8,\n",
       " 34,\n",
       " 17,\n",
       " 6,\n",
       " 40,\n",
       " 19,\n",
       " 10,\n",
       " 15,\n",
       " 9,\n",
       " 6,\n",
       " 14,\n",
       " 2,\n",
       " 5,\n",
       " 5,\n",
       " 11,\n",
       " 25,\n",
       " 45,\n",
       " 29,\n",
       " 5,\n",
       " 17,\n",
       " 3,\n",
       " 11,\n",
       " 7,\n",
       " 17,\n",
       " 5,\n",
       " 8,\n",
       " 11,\n",
       " 21,\n",
       " 32,\n",
       " 2,\n",
       " 7,\n",
       " 103,\n",
       " 17,\n",
       " 14,\n",
       " 43,\n",
       " 30,\n",
       " 29,\n",
       " 4,\n",
       " 20,\n",
       " 1,\n",
       " 8,\n",
       " 19,\n",
       " 14,\n",
       " 0,\n",
       " 2,\n",
       " 58,\n",
       " 0,\n",
       " 14,\n",
       " 22,\n",
       " 37,\n",
       " 34,\n",
       " 104,\n",
       " 8,\n",
       " 15,\n",
       " 17,\n",
       " 7,\n",
       " 34,\n",
       " 19,\n",
       " 19,\n",
       " 3,\n",
       " 17,\n",
       " 14,\n",
       " 42,\n",
       " 6,\n",
       " 0,\n",
       " 7,\n",
       " 58,\n",
       " 16,\n",
       " 0,\n",
       " 5,\n",
       " 5,\n",
       " 13,\n",
       " 43,\n",
       " 2,\n",
       " 14,\n",
       " 19,\n",
       " 8,\n",
       " 2,\n",
       " 3,\n",
       " 17,\n",
       " 9,\n",
       " 31,\n",
       " 11,\n",
       " 7,\n",
       " 14,\n",
       " 68,\n",
       " 12,\n",
       " 25,\n",
       " 24,\n",
       " 23,\n",
       " 88,\n",
       " 7,\n",
       " 88,\n",
       " 5,\n",
       " 14,\n",
       " 59,\n",
       " 8,\n",
       " 5,\n",
       " 18,\n",
       " 15,\n",
       " 0,\n",
       " 13,\n",
       " 41,\n",
       " 8,\n",
       " 8,\n",
       " 17,\n",
       " 6,\n",
       " 17,\n",
       " 25,\n",
       " 8,\n",
       " 10,\n",
       " 72,\n",
       " 14,\n",
       " 4,\n",
       " 25,\n",
       " 26,\n",
       " 12,\n",
       " 130,\n",
       " 83,\n",
       " 6,\n",
       " 10,\n",
       " 170,\n",
       " 1,\n",
       " 17,\n",
       " 1,\n",
       " 12,\n",
       " 12,\n",
       " 7,\n",
       " 5,\n",
       " 49,\n",
       " 18,\n",
       " 11,\n",
       " 9,\n",
       " 33,\n",
       " 23,\n",
       " 5,\n",
       " 5,\n",
       " 17,\n",
       " 8,\n",
       " 5,\n",
       " 31,\n",
       " 3,\n",
       " 28,\n",
       " 16,\n",
       " 0,\n",
       " 11,\n",
       " 13,\n",
       " 24,\n",
       " 17,\n",
       " 11,\n",
       " 12,\n",
       " 16,\n",
       " 5,\n",
       " 11,\n",
       " 97,\n",
       " 19,\n",
       " 9,\n",
       " 46,\n",
       " 29,\n",
       " 22,\n",
       " 13,\n",
       " 23,\n",
       " 6,\n",
       " 0,\n",
       " 10,\n",
       " 57,\n",
       " 23,\n",
       " 14,\n",
       " 3,\n",
       " 5,\n",
       " 3,\n",
       " 7,\n",
       " 48,\n",
       " 1,\n",
       " 27,\n",
       " 8,\n",
       " 0,\n",
       " 51,\n",
       " 13,\n",
       " 1,\n",
       " 11,\n",
       " 24,\n",
       " 48,\n",
       " 3,\n",
       " 50,\n",
       " 57,\n",
       " 76,\n",
       " 24,\n",
       " 2,\n",
       " 0,\n",
       " 0,\n",
       " 9,\n",
       " 10,\n",
       " 1,\n",
       " 30,\n",
       " 12,\n",
       " 42,\n",
       " 2,\n",
       " 10,\n",
       " 7,\n",
       " 59,\n",
       " 17,\n",
       " 8,\n",
       " 12,\n",
       " 49,\n",
       " 9,\n",
       " 20,\n",
       " 15,\n",
       " 16,\n",
       " 25,\n",
       " 47,\n",
       " 17,\n",
       " 7,\n",
       " 30,\n",
       " 10,\n",
       " 17,\n",
       " 25,\n",
       " 35,\n",
       " 0,\n",
       " 22,\n",
       " 8,\n",
       " 0,\n",
       " 13,\n",
       " 14,\n",
       " 4,\n",
       " 2,\n",
       " 8,\n",
       " 9,\n",
       " 5,\n",
       " 8,\n",
       " 30,\n",
       " 16,\n",
       " 11,\n",
       " 12,\n",
       " 21,\n",
       " 0,\n",
       " 8,\n",
       " 3,\n",
       " 3,\n",
       " 1,\n",
       " 2,\n",
       " 5,\n",
       " 3,\n",
       " 8,\n",
       " 5,\n",
       " 14,\n",
       " 4,\n",
       " 24,\n",
       " 5,\n",
       " 0,\n",
       " 13,\n",
       " 46,\n",
       " 36,\n",
       " 2,\n",
       " 11,\n",
       " 3,\n",
       " 39,\n",
       " 13,\n",
       " 5,\n",
       " 5,\n",
       " 49,\n",
       " 0,\n",
       " 13,\n",
       " 11,\n",
       " 4,\n",
       " 14,\n",
       " 0,\n",
       " 6,\n",
       " 4,\n",
       " 13,\n",
       " 18,\n",
       " 8,\n",
       " 2,\n",
       " 25,\n",
       " 6,\n",
       " 12,\n",
       " 9,\n",
       " 8,\n",
       " 27,\n",
       " 18,\n",
       " 17,\n",
       " 3,\n",
       " 5,\n",
       " 48,\n",
       " 12,\n",
       " 17,\n",
       " 7,\n",
       " 29,\n",
       " 18]"
      ]
     },
     "execution_count": 46,
     "metadata": {},
     "output_type": "execute_result"
    }
   ],
   "source": [
    "num_syn = [len(plant['synonyms']) for plant in plants]\n",
    "num_syn"
   ]
  },
  {
   "cell_type": "code",
   "execution_count": 47,
   "metadata": {
    "hidden": true
   },
   "outputs": [
    {
     "data": {
      "image/png": "[encoded data removed]",
      "text/plain": [
       "<Figure size 576x432 with 1 Axes>"
      ]
     },
     "metadata": {},
     "output_type": "display_data"
    }
   ],
   "source": [
    "fig, ax = plt.subplots(figsize=(8, 6))\n",
    "\n",
    "ax.scatter(range(1000), num_syn, alpha=0.5)\n",
    "ax.set_title('Numbers of Synonyms');"
   ]
  },
  {
   "cell_type": "markdown",
   "metadata": {
    "heading_collapsed": true,
    "hidden": true
   },
   "source": [
    "## Exercise"
   ]
  },
  {
   "cell_type": "markdown",
   "metadata": {
    "heading_collapsed": true,
    "hidden": true
   },
   "source": [
    "One plant has nearly 350 synonynms! What plant is this?"
   ]
  },
  {
   "cell_type": "code",
   "execution_count": 59,
   "metadata": {},
   "outputs": [
    {
     "data": {
      "text/plain": [
       "[{'id': 182597,\n",
       "  'common_name': 'Irish potato',\n",
       "  'slug': 'solanum-tuberosum',\n",
       "  'scientific_name': 'Solanum tuberosum',\n",
       "  'year': 1753,\n",
       "  'bibliography': 'Sp. Pl.: 185 (1753)',\n",
       "  'author': 'L.',\n",
       "  'status': 'accepted',\n",
       "  'rank': 'species',\n",
       "  'family_common_name': 'Potato family',\n",
       "  'genus_id': 4329,\n",
       "  'image_url': 'https://bs.plantnet.org/image/o/95a0197b33f8efe2ea7a0d25f84476415779a4b5',\n",
       "  'synonyms': ['Solanum tuberosum subsp. andigenum',\n",
       "   'Solanum tuberosum f. chiar-pala',\n",
       "   'Solanum tuberosum var. strobilinum',\n",
       "   'Solanum tuberosum var. murukewillu',\n",
       "   'Solanum stenotomum var. peruanum',\n",
       "   'Larnax sylvarum subsp. novogranatensis',\n",
       "   'Solanum andigenum f. tiahuanacense',\n",
       "   'Solanum andigenum f. pallidum',\n",
       "   'Solanum tuberosum var. batatinum',\n",
       "   'Solanum tuberosum var. rugiorum',\n",
       "   'Solanum andigenum f. ovatibaccatum',\n",
       "   'Solanum tuberosum f. contortum',\n",
       "   'Solanum andigenum f. llutuc-runtum',\n",
       "   'Solanum andigenum var. mexicanum',\n",
       "   'Solanum tuberosum var. album',\n",
       "   'Solanum andigenum f. ancacc-maquin',\n",
       "   'Solanum andigenum f. conicicolumnatum',\n",
       "   'Solanum andigenum f. dilatatum',\n",
       "   'Parmentiera edulis',\n",
       "   'Solanum andigenum subsp. australiperuvianum',\n",
       "   'Solanum tuberosum f. thalassinum',\n",
       "   'Solanum aracatscha',\n",
       "   'Solanum tuberosum var. melanoceras',\n",
       "   'Solanum stenotomum var. cyaneum',\n",
       "   'Solanum andigenum var. quechuanum',\n",
       "   'Solanum tuberosum var. sesquimensale',\n",
       "   'Solanum tuberosum f. viride',\n",
       "   'Solanum tuberosum f. laram-lelekkoya',\n",
       "   'Solanum andigenum f. alccai-huarmi',\n",
       "   'Solanum stenotomum f. catari-papa',\n",
       "   'Solanum andigenum f. caesium',\n",
       "   'Solanum tuberosum f. ovatum',\n",
       "   'Solanum tuberosum f. sebastianum',\n",
       "   \"Solanum phureja var. janck'o-phureja\",\n",
       "   'Solanum chilotanum var. angustifurcatum',\n",
       "   'Solanum tuberosum var. bertuchii',\n",
       "   'Solanum chilotanum var. talukdarii',\n",
       "   'Solanum phureja',\n",
       "   'Solanum leptostigma',\n",
       "   'Solanum sendigena',\n",
       "   'Solanum andigenum f. ccompis',\n",
       "   'Solanum diemii',\n",
       "   'Solanum tuberosum f. milagro',\n",
       "   'Solanum stenotomum var. megalocalyx',\n",
       "   'Solanum tenuifilamentum',\n",
       "   'Solanum tuberosum f. coraila',\n",
       "   'Solanum tuberosum var. elegans',\n",
       "   'Solanum tuberosum var. norfolcicum',\n",
       "   'Lycopersicon tuberosum',\n",
       "   'Solanum stenotomum f. ccami',\n",
       "   'Solanum tuberosum var. platyceras',\n",
       "   'Solanum tuberosum var. hispanicum',\n",
       "   'Solanum tuberosum var. yutuense',\n",
       "   'Solanum andigenum var. stenophyllum',\n",
       "   'Solanum rybinii var. popayanum',\n",
       "   'Solanum chaucha var. khoyllu',\n",
       "   \"Solanum tuberosum f. wila-k'oyu\",\n",
       "   'Solanum stenotomum f. koso-nahui',\n",
       "   'Solanum tuberosum f. huichinkka',\n",
       "   'Solanum andigenum f. ppacc-nacha',\n",
       "   'Solanum stenotomum var. puca-lunca',\n",
       "   'Solanum andigenum f. bifidum',\n",
       "   'Solanum tuberosum var. taraco',\n",
       "   'Solanum oceanicum',\n",
       "   'Solanum tuberosum f. latum',\n",
       "   'Solanum andigenum f. cryptostylum',\n",
       "   'Solanum phureja f. sayhuanimayo',\n",
       "   'Solanum tuberosum var. praecox',\n",
       "   'Solanum aracc-papa',\n",
       "   'Solanum stenotomum f. tiele',\n",
       "   'Solanum tuberosum var. hassicum',\n",
       "   'Solanum tuberosum var. multibaccatum',\n",
       "   'Solanum andigenum var. herrerae',\n",
       "   'Solanum andigenum var. aymaranum',\n",
       "   'Solanum phureja var. sanguineum',\n",
       "   'Solanum stenotomum f. chincherae',\n",
       "   'Solanum goniocalyx var. caeruleum',\n",
       "   'Solanum stenotomum f. roseum',\n",
       "   'Solanum sinense',\n",
       "   'Solanum andigenum f. chalcoense',\n",
       "   'Solanum andigenum f. chimaco',\n",
       "   'Solanum tuberosum var. menapianum',\n",
       "   'Solanum tuberosum var. merceri',\n",
       "   'Solanum tuberosum f. enode',\n",
       "   'Solanum stenotomum f. chojllu',\n",
       "   'Solanum tuberosum var. bufoninum',\n",
       "   'Solanum tuberosum var. corsicanum',\n",
       "   'Solanum chaucha var. puca-suitu',\n",
       "   'Solanum andigenum subsp. tarmense',\n",
       "   'Solanum stenotomum f. eucaliptae',\n",
       "   'Solanum tuberosum f. isla-imilla',\n",
       "   'Solanum tuberosum f. wila-monda',\n",
       "   'Solanum stenotomum var. putis',\n",
       "   'Solanum andigenum f. pomacanchicum',\n",
       "   'Solanum tuberosum f. chiar-lelekkoya',\n",
       "   'Solanum riobambense',\n",
       "   'Solanum andigenum f. arcuatum',\n",
       "   'Solanum tuberosum f. elongatum',\n",
       "   'Solanum tuberosum var. conocarpum',\n",
       "   'Solanum kesselbrenneri',\n",
       "   'Solanum phureja f. timusi',\n",
       "   'Solanum andigenum subsp. ecuatorianum',\n",
       "   'Solanum tuberosum var. schnittspahnii',\n",
       "   'Solanum tuberosum var. aethiopicum',\n",
       "   'Solanum andigenum var. bolivianum',\n",
       "   'Solanum andigenum var. huairuru',\n",
       "   'Solanum maglia var. chubutense',\n",
       "   'Solanum stenotomum f. alcay-imilla',\n",
       "   'Solanum tuberosum f. overita',\n",
       "   'Solanum andigenum',\n",
       "   'Solanum tuberosum var. malcachu',\n",
       "   'Solanum andigenum var. colombianum',\n",
       "   'Solanum tuberosum f. wila-imilla',\n",
       "   'Solanum molinae',\n",
       "   'Solanum andigenum f. incrassatum',\n",
       "   'Solanum stenotomum var. huicu',\n",
       "   'Solanum subandigenum',\n",
       "   'Solanum tuberosum var. crassipedicellatum',\n",
       "   'Solanum tuberosum var. ulmense',\n",
       "   'Solanum tuberosum f. camota',\n",
       "   'Solanum tuberosum var. villaroella',\n",
       "   'Solanum stenotomum f. cohuasa',\n",
       "   'Solanum phureja var. caeruleum',\n",
       "   'Solanum andigenum var. sihuanum',\n",
       "   'Solanum rybinii var. boyacense',\n",
       "   'Solanum tuberosum var. tener',\n",
       "   'Solanum caniarense',\n",
       "   'Solanum chaucha var. surimana',\n",
       "   'Solanum zykinii',\n",
       "   'Solanum stenotomum f. pitoca',\n",
       "   \"Solanum tuberosum f. jancck'o-kkoyllu\",\n",
       "   'Solanum stenotomum f. kehuillo',\n",
       "   'Solanum andigenum f. microstigma',\n",
       "   'Solanum tascalense',\n",
       "   'Solanum cayeuxi',\n",
       "   'Solanum tuberosum f. chojo-sajama',\n",
       "   'Solanum andigenum f. pacus',\n",
       "   'Solanum tuberosum var. rockii',\n",
       "   'Solanum tuberosum var. rubrisuturatum',\n",
       "   'Solanum phureja f. viuda',\n",
       "   'Solanum tuberosum var. guaytecarum',\n",
       "   'Solanum stenotomum f. yuracc',\n",
       "   'Solanum tuberosum var. putscheanum',\n",
       "   'Solanum andigenum subsp. colombianum',\n",
       "   'Solanum andigenum var. grauense',\n",
       "   'Solanum tuberosum var. cordiforme',\n",
       "   'Solanum tarmense',\n",
       "   'Solanum dubium',\n",
       "   'Solanum goniocalyx',\n",
       "   'Solanum cultum',\n",
       "   'Solanum andigenum f. basiscopum',\n",
       "   'Solanum stenotomum f. yana-cculi',\n",
       "   'Solanum tuberosum var. lelekkoya',\n",
       "   'Solanum mamilliferum',\n",
       "   'Solanum tuberosum f. pulo',\n",
       "   'Solanum stenotomum f. phitu-huayacas',\n",
       "   'Solanum andigenum var. cuzcoense',\n",
       "   \"Solanum tuberosum f. janck'o-chockella\",\n",
       "   'Solanum tuberosum f. yurac-taraco',\n",
       "   'Solanum andigenum f. cevallosii',\n",
       "   'Solanum chocclo',\n",
       "   'Solanum stenotomum var. keccrana',\n",
       "   'Solanum tuberosum var. cultum',\n",
       "   'Solanum tuberosum var. rossicum',\n",
       "   'Solanum tuberosum f. chaped',\n",
       "   'Solanum stenotomum f. cuchipacon',\n",
       "   'Solanum estradea',\n",
       "   'Solanum tuberosum var. reniforme',\n",
       "   'Solanum tuberosum var. pecorum',\n",
       "   'Solanum stenotomum f. canastilla',\n",
       "   'Solanum andigenum var. socco-huaccoto',\n",
       "   'Solanum rybinii var. pastoense',\n",
       "   'Solanum stenotomum f. canasense',\n",
       "   'Solanum tuberosum subsp. chiloense',\n",
       "   'Solanum tuberosum var. runa',\n",
       "   'Solanum tuberosum f. huaca-zapato',\n",
       "   'Solanum andigenum f. lapazense',\n",
       "   'Solanum andigenum f. tolucanum',\n",
       "   'Solanum cardenasii',\n",
       "   'Solanum ochoanum',\n",
       "   'Solanum tuberosum f. conicum',\n",
       "   'Solanum tuberosum var. praedicandum',\n",
       "   'Solanum paramoense',\n",
       "   'Solanum tuberosum var. borsdorfianum',\n",
       "   'Solanum chilotanum',\n",
       "   'Solanum andigenum var. hederiforme',\n",
       "   'Solanum andigenum f. lecke-umo',\n",
       "   'Solanum andigenum subsp. aya-papa',\n",
       "   'Solanum stenotomum f. pallidum',\n",
       "   'Solanum andigenum f. nodosum',\n",
       "   'Solanum tuberosum var. vulgare',\n",
       "   \"Solanum tuberosum f. janck'o-pala\",\n",
       "   'Solanum andigenum var. ccusi',\n",
       "   'Solanum stenotomum var. chapina',\n",
       "   'Solanum tuberosum f. crassifilamentum',\n",
       "   'Solanum tuberosum var. peruvianum',\n",
       "   'Solanum tuberosum f. montticum',\n",
       "   'Solanum andigenum f. caiceda',\n",
       "   'Solanum tuberosum var. chiloense',\n",
       "   'Solanum tuberosum var. fragariinum',\n",
       "   'Solanum tuberosum var. holsaticum',\n",
       "   'Solanum tuberosum var. helenanum',\n",
       "   'Solanum tuberosum f. brachykalukon',\n",
       "   'Solanum tuberosum var. sabinei',\n",
       "   'Solanum andigenum var. platyantherum',\n",
       "   'Solanum rybinii',\n",
       "   'Solanum stenotomum f. orcco-amajaya',\n",
       "   'Solanum tuberosum f. alkka-imilla',\n",
       "   'Solanum tuberosum var. salamandrinum',\n",
       "   'Solanum andigenum f. tocanum',\n",
       "   'Solanum tuberosum f. sani-imilla',\n",
       "   'Solanum andigenum f. guatemalense',\n",
       "   'Solanum andigenum f. lanciacuminatum',\n",
       "   'Solanum hygrothermicum',\n",
       "   'Solanum tuberosum var. xanthoceras',\n",
       "   'Solanum yabari var. cuzcoense',\n",
       "   'Solanum chaucha f. purpureum',\n",
       "   'Solanum tuberosum var. elongatum',\n",
       "   'Solanum ascasabii',\n",
       "   'Solanum chiloense',\n",
       "   'Solanum sanmartinense',\n",
       "   'Solanum stenotomum f. kamara',\n",
       "   'Solanum andigenum var. latius',\n",
       "   'Solanum stenotomum f. chilcas',\n",
       "   'Solanum tuberosum f. kunurana',\n",
       "   'Solanum tuberosum f. infectum',\n",
       "   'Solanum phureja subsp. estradae',\n",
       "   'Solanum andigenum var. ckello-huaccoto',\n",
       "   'Solanum andigenum f. sunchchu',\n",
       "   'Solanum tuberosum var. nucinum',\n",
       "   'Solanum tuberosum var. cepinum',\n",
       "   'Solanum tuberosum f. oculosum',\n",
       "   'Solanum tuberosum var. chilotanum',\n",
       "   'Solanum tuberosum f. brevipapillosum',\n",
       "   'Solanum macmillanii',\n",
       "   'Solanum parmentieri',\n",
       "   'Solanum rybinii var. bogotense',\n",
       "   'Solanum tuberosum var. brachyceras',\n",
       "   'Solanum stenotomum f. phinu',\n",
       "   'Solanum sylvestre',\n",
       "   'Solanum tuberosum f. tinguipaya',\n",
       "   'Solanum andigenum subsp. argentinicum',\n",
       "   'Solanum andigenum f. coeruleum',\n",
       "   'Solanum tuberosum f. alkka-silla',\n",
       "   'Solanum tuberosum var. sicha',\n",
       "   'Solanum chilotanum f. parvicorollatum',\n",
       "   'Solanum andigenum f. tenue',\n",
       "   'Solanum tuberosum var. drakeanum',\n",
       "   'Solanum tuberosum var. recurvatum',\n",
       "   'Solanum tuberosum f. acuminatum',\n",
       "   'Solanum andigenum f. huaca-layra',\n",
       "   'Solanum yabari',\n",
       "   'Solanum boyacense',\n",
       "   'Solanum tuberosum f. araucanum',\n",
       "   'Solanum phureja subsp. hygrothermicum',\n",
       "   'Solanum tuberosum var. leonhardianum',\n",
       "   'Solanum tuberosum var. nobile',\n",
       "   'Solanum stenotomum f. puca',\n",
       "   'Solanum phureja var. rubroroseum',\n",
       "   'Solanum andigenum var. digitotuberosum',\n",
       "   'Battata tuberosa',\n",
       "   'Solanum stenotomum f. negrum',\n",
       "   'Solanum andigenum f. lisarassa',\n",
       "   'Solanum andigenum var. longibaccatum',\n",
       "   'Solanum tuberosum f. pichuna',\n",
       "   'Solanum stenotomum',\n",
       "   'Solanum stenotomum f. piticana',\n",
       "   'Solanum andigenum f. huaman-uma',\n",
       "   'Solanum andigenum var. brevicalyx',\n",
       "   'Solanum stenotomum var. pitiquilla',\n",
       "   'Solanum phureja var. flavum',\n",
       "   'Solanum tuberosum var. anglicum',\n",
       "   'Solanum tuberosum f. indianum',\n",
       "   'Solanum tuberosum var. julianum',\n",
       "   'Solanum tuberosum var. kaunitzii',\n",
       "   'Solanum coeruleiflorum',\n",
       "   'Solanum herrerae',\n",
       "   'Solanum utile',\n",
       "   'Solanum tuberosum var. versicolor',\n",
       "   'Solanum chaucha var. ckati',\n",
       "   'Solanum stenotomum f. huamanpa-uman',\n",
       "   'Solanum apurimacense',\n",
       "   'Solanum tuberosum f. wila-pala',\n",
       "   'Solanum esculentum',\n",
       "   'Solanum chilotanum f. magnicorollatum',\n",
       "   'Solanum tuberosum var. sipancachi',\n",
       "   'Solanum sabinei',\n",
       "   'Solanum tuberosum f. amajaya',\n",
       "   'Solanum andigenum f. huallata',\n",
       "   'Solanum andigenum f. ppaqui',\n",
       "   'Solanum chaucha',\n",
       "   'Solanum phureja var. macmillanii',\n",
       "   'Solanum andigenum f. globosum',\n",
       "   'Solanum tuberosum var. saccharatum',\n",
       "   'Solanum tuberosum f. pillicuma',\n",
       "   'Solanum tuberosum var. erythroceras',\n",
       "   'Solanum tuberosum var. vuchefeldicum',\n",
       "   'Solanum churuspi',\n",
       "   'Solanum phureja f. orbiculatum',\n",
       "   'Solanum andigenum var. imilla',\n",
       "   'Solanum stenotomum f. cochicallo',\n",
       "   'Solanum andigenum f. lilacinoflorum',\n",
       "   'Solanum erlansonii',\n",
       "   'Solanum andigenum f. magnicorollatum',\n",
       "   'Solanum stenotomum var. ccami',\n",
       "   'Solanum andigenum var. carhua',\n",
       "   'Solanum andigenum f. ccompetillo',\n",
       "   'Solanum tuberosum var. alaudinum',\n",
       "   'Solanum tuberosum var. palatinatum',\n",
       "   'Solanum tuberosum f. mahuinhue',\n",
       "   'Solanum stenotomum var. poccoya',\n",
       "   'Solanum tuberosum var. cucumerinum',\n",
       "   'Solanum phureja var. pujeri',\n",
       "   'Solanum tuberosum var. laurentianum',\n",
       "   'Solanum tuberosum var. brevipilosum',\n",
       "   'Solanum stenotomum subsp. goniocalyx',\n",
       "   'Solanum chaucha var. ccoe-sulla',\n",
       "   'Solanum stenotomum f. huanuchi',\n",
       "   'Solanum andigenum subsp. bolivianum',\n",
       "   'Solanum stenotomum f. kantillero',\n",
       "   'Solanum tuberosum f. wila-huaycku',\n",
       "   'Solanum tuberosum f. azul-runa',\n",
       "   'Solanum chariense',\n",
       "   'Solanum andigenum f. uncuna',\n",
       "   'Solanum parvicorollatum',\n",
       "   'Solanum phureja var. erlansonii',\n",
       "   'Solanum tuberosum f. surico',\n",
       "   'Solanum yabari var. pepino',\n",
       "   'Solanum tuberosum var. chubutense',\n",
       "   'Solanum chaucha f. roseum',\n",
       "   'Solanum tuberosum var. tinctorium',\n",
       "   'Solanum andigenum f. discolor',\n",
       "   'Solanum tuberosum f. auriculatum',\n",
       "   'Solanum tuberosum f. tenuipedicellatum',\n",
       "   'Solanum andigenum subsp. centraliperuvianum',\n",
       "   'Solanum tuberosum var. californicum',\n",
       "   'Solanum maglia var. guaytecarum',\n",
       "   'Solanum stenotomum f. huallata-chinchi',\n",
       "   'Solanum andigenum f. elongatipedicellatum',\n",
       "   'Solanum andigenum var. juninum',\n",
       "   'Solanum tuberosum f. nigrum',\n",
       "   'Solanum tuberosum var. polemoniifolium'],\n",
       "  'genus': 'Solanum',\n",
       "  'family': 'Solanaceae',\n",
       "  'links': {'self': '/api/v1/species/solanum-tuberosum',\n",
       "   'plant': '/api/v1/plants/solanum-tuberosum',\n",
       "   'genus': '/api/v1/genus/solanum'}}]"
      ]
     },
     "execution_count": 59,
     "metadata": {},
     "output_type": "execute_result"
    }
   ],
   "source": [
    "big_plant = [plant for plant in plants if len(plant['synonyms']) > 300]\n",
    "big_plant"
   ]
  },
  {
   "cell_type": "markdown",
   "metadata": {
    "heading_collapsed": true,
    "hidden": true
   },
   "source": [
    "<details>\n",
    "    <summary>\n",
    "        Answer\n",
    "    </summary>\n",
    "\n",
    "```python\n",
    "[plant for plant in plants if len(plant['synonyms']) > 300]\n",
    "```\n",
    "</details>"
   ]
  },
  {
   "cell_type": "markdown",
   "metadata": {
    "heading_collapsed": true,
    "hidden": true
   },
   "source": [
    "## Bibliography"
   ]
  },
  {
   "cell_type": "code",
   "execution_count": 62,
   "metadata": {
    "hidden": true
   },
   "outputs": [],
   "source": [
    "biblios = [plant['bibliography'] for plant in plants]"
   ]
  },
  {
   "cell_type": "code",
   "execution_count": 63,
   "metadata": {
    "hidden": true
   },
   "outputs": [
    {
     "data": {
      "text/plain": [
       "'Encycl. 1: 723 (1785)'"
      ]
     },
     "execution_count": 63,
     "metadata": {},
     "output_type": "execute_result"
    }
   ],
   "source": [
    "biblios[0]"
   ]
  },
  {
   "cell_type": "markdown",
   "metadata": {
    "hidden": true
   },
   "source": [
    "Let's check the bibliographies for any explicit mention of Linnaeus, the godfather of biological taxonomy. First we'll remove the plants with no bibliography:"
   ]
  },
  {
   "cell_type": "code",
   "execution_count": 66,
   "metadata": {
    "hidden": true
   },
   "outputs": [
    {
     "data": {
      "text/plain": [
       "994"
      ]
     },
     "execution_count": 66,
     "metadata": {},
     "output_type": "execute_result"
    }
   ],
   "source": [
    "hasbiblio = [plant for plant in plants if plant['bibliography'] != None]\n",
    "len(hasbiblio)"
   ]
  },
  {
   "cell_type": "code",
   "execution_count": null,
   "metadata": {
    "hidden": true
   },
   "outputs": [],
   "source": [
    " Linnaeus ="
   ]
  },
  {
   "cell_type": "code",
   "execution_count": null,
   "metadata": {
    "hidden": true
   },
   "outputs": [],
   "source": []
  },
  {
   "cell_type": "markdown",
   "metadata": {
    "heading_collapsed": true
   },
   "source": [
    "# Matching Author and Bibliography"
   ]
  },
  {
   "cell_type": "markdown",
   "metadata": {
    "hidden": true
   },
   "source": [
    "In fact, _Species Plantarum_ (1753) was written by Linnaeus, and \"Sp. Pl.\" in these bibliographies is a reference to that master work. Let's check to see who the author is for these records whose bibliographies start with \"Sp. Pl.\":"
   ]
  },
  {
   "cell_type": "code",
   "execution_count": 73,
   "metadata": {},
   "outputs": [
    {
     "data": {
      "text/plain": [
       "[]"
      ]
     },
     "execution_count": 73,
     "metadata": {},
     "output_type": "execute_result"
    }
   ],
   "source": [
    "sps = []\n",
    "for plant in hasbiblio:\n",
    "    if plant['bibliography'].startswith('Sp. P1'):\n",
    "        sps.append(plant)\n",
    "sps"
   ]
  },
  {
   "cell_type": "code",
   "execution_count": null,
   "metadata": {
    "hidden": true
   },
   "outputs": [],
   "source": []
  },
  {
   "cell_type": "code",
   "execution_count": null,
   "metadata": {
    "hidden": true
   },
   "outputs": [],
   "source": []
  },
  {
   "cell_type": "code",
   "execution_count": null,
   "metadata": {
    "hidden": true
   },
   "outputs": [],
   "source": []
  },
  {
   "cell_type": "code",
   "execution_count": null,
   "metadata": {
    "hidden": true
   },
   "outputs": [],
   "source": []
  },
  {
   "cell_type": "markdown",
   "metadata": {
    "heading_collapsed": true,
    "hidden": true
   },
   "source": [
    "## Exercise"
   ]
  },
  {
   "cell_type": "markdown",
   "metadata": {
    "hidden": true
   },
   "source": [
    "Change the author to 'L.' (for 'Linnaeus') for all of these records."
   ]
  },
  {
   "cell_type": "code",
   "execution_count": null,
   "metadata": {
    "hidden": true
   },
   "outputs": [],
   "source": []
  },
  {
   "cell_type": "markdown",
   "metadata": {
    "hidden": true
   },
   "source": [
    "<details>\n",
    "    <summary>\n",
    "        Answer\n",
    "    </summary>\n",
    "\n",
    "```python\n",
    "for plant in plants:\n",
    "    try:\n",
    "        if plant['bibliography'].startswith('Sp. Pl.'):\n",
    "            plant['author'] = 'L.'\n",
    "    except:\n",
    "        continue\n",
    "```\n",
    "</details>"
   ]
  },
  {
   "cell_type": "markdown",
   "metadata": {
    "heading_collapsed": true
   },
   "source": [
    "# Teaser: Bringing in `pandas`: Back to Synonyms"
   ]
  },
  {
   "cell_type": "markdown",
   "metadata": {
    "hidden": true
   },
   "source": [
    "Let's take advantage of the DataFrame tools from `pandas`:"
   ]
  },
  {
   "cell_type": "code",
   "execution_count": null,
   "metadata": {},
   "outputs": [],
   "source": [
    "# Need to first import pandas\n",
    "import pandas as pd"
   ]
  },
  {
   "cell_type": "code",
   "execution_count": null,
   "metadata": {
    "hidden": true
   },
   "outputs": [],
   "source": [
    "plants_df = pd.DataFrame(plants)"
   ]
  },
  {
   "cell_type": "code",
   "execution_count": null,
   "metadata": {
    "hidden": true
   },
   "outputs": [],
   "source": [
    "plants_df.head()"
   ]
  },
  {
   "cell_type": "markdown",
   "metadata": {
    "heading_collapsed": true,
    "hidden": true
   },
   "source": [
    "## Exercises for Later"
   ]
  },
  {
   "cell_type": "markdown",
   "metadata": {
    "hidden": true
   },
   "source": [
    "1. Add the number of synonyms as a new column called \"num_syn\".\n",
    "2. Sort the DataFrame by number of synonyms in descending order.\n",
    "3. Grab the Image URL of the plant that has the fourth-highest number of synonyms.\n",
    "4. Paste it into your browser and take a look!"
   ]
  },
  {
   "cell_type": "code",
   "execution_count": null,
   "metadata": {},
   "outputs": [],
   "source": [
    "\n",
    "\n",
    "\n",
    "\n"
   ]
  },
  {
   "cell_type": "markdown",
   "metadata": {
    "hidden": true
   },
   "source": [
    "<details>\n",
    "    <summary>Answer here\n",
    "    </summary>\n",
    "\n",
    "```python\n",
    "plants_df['num_syn'] = plants_df['synonyms'].map(len)\n",
    "sorted = plants_df.sort_values('num_syn', ascending=False)\n",
    "sorted.loc[3, 'image_url']\n",
    "```\n",
    "</details>"
   ]
  },
  {
   "cell_type": "markdown",
   "metadata": {
    "heading_collapsed": true
   },
   "source": [
    "# Year"
   ]
  },
  {
   "cell_type": "markdown",
   "metadata": {
    "hidden": true
   },
   "source": [
    "The year is an indication of when a valid name for the plant first appeared in print. Let's build a simple histogram of these years:"
   ]
  },
  {
   "cell_type": "code",
   "execution_count": null,
   "metadata": {
    "hidden": true,
    "scrolled": true
   },
   "outputs": [],
   "source": [
    "fig, ax = plt.subplots()\n",
    "\n",
    "ax.hist(plants_df[plants_df['year'] > 0]['year'], color='darkgreen');"
   ]
  }
 ],
 "metadata": {
  "kernelspec": {
   "display_name": "Python 3",
   "language": "python",
   "name": "python3"
  },
  "language_info": {
   "codemirror_mode": {
    "name": "ipython",
    "version": 3
   },
   "file_extension": ".py",
   "mimetype": "text/x-python",
   "name": "python",
   "nbconvert_exporter": "python",
   "pygments_lexer": "ipython3",
   "version": "3.8.5"
  },
  "toc": {
   "base_numbering": 1,
   "nav_menu": {},
   "number_sections": true,
   "sideBar": true,
   "skip_h1_title": false,
   "title_cell": "Table of Contents",
   "title_sidebar": "TOC",
   "toc_cell": true,
   "toc_position": {
    "height": "calc(100% - 180px)",
    "left": "10px",
    "top": "150px",
    "width": "288px"
   },
   "toc_section_display": true,
   "toc_window_display": true
  }
 },
 "nbformat": 4,
 "nbformat_minor": 4
}
